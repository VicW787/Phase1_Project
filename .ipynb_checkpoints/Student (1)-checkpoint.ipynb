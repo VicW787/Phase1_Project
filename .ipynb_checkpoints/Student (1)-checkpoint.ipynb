{
 "cells": [
  {
   "cell_type": "markdown",
   "metadata": {
    "id": "02RKvFubhC0g"
   },
   "source": [
    "Reading the data and cleaning it"
   ]
  },
  {
   "cell_type": "code",
   "execution_count": 87,
   "metadata": {
    "id": "r7IVG8-7M4-F"
   },
   "outputs": [],
   "source": [
    "import pandas as pd\n",
    "import matplotlib.pyplot as plt\n"
   ]
  },
  {
   "cell_type": "code",
   "execution_count": 88,
   "metadata": {
    "colab": {
     "base_uri": "https://localhost:8080/",
     "height": 342
    },
    "id": "-eV2ue4WmNjK",
    "outputId": "66dd161f-e8ff-4943-ee44-2d6886f5e3f2"
   },
   "outputs": [
    {
     "data": {
      "text/html": [
       "<div>\n",
       "<style scoped>\n",
       "    .dataframe tbody tr th:only-of-type {\n",
       "        vertical-align: middle;\n",
       "    }\n",
       "\n",
       "    .dataframe tbody tr th {\n",
       "        vertical-align: top;\n",
       "    }\n",
       "\n",
       "    .dataframe thead th {\n",
       "        text-align: right;\n",
       "    }\n",
       "</style>\n",
       "<table border=\"1\" class=\"dataframe\">\n",
       "  <thead>\n",
       "    <tr style=\"text-align: right;\">\n",
       "      <th></th>\n",
       "      <th>Event.Id</th>\n",
       "      <th>Investigation.Type</th>\n",
       "      <th>Accident.Number</th>\n",
       "      <th>Event.Date</th>\n",
       "      <th>Location</th>\n",
       "      <th>Country</th>\n",
       "      <th>Latitude</th>\n",
       "      <th>Longitude</th>\n",
       "      <th>Airport.Code</th>\n",
       "      <th>Airport.Name</th>\n",
       "      <th>...</th>\n",
       "      <th>Purpose.of.flight</th>\n",
       "      <th>Air.carrier</th>\n",
       "      <th>Total.Fatal.Injuries</th>\n",
       "      <th>Total.Serious.Injuries</th>\n",
       "      <th>Total.Minor.Injuries</th>\n",
       "      <th>Total.Uninjured</th>\n",
       "      <th>Weather.Condition</th>\n",
       "      <th>Broad.phase.of.flight</th>\n",
       "      <th>Report.Status</th>\n",
       "      <th>Publication.Date</th>\n",
       "    </tr>\n",
       "  </thead>\n",
       "  <tbody>\n",
       "    <tr>\n",
       "      <th>0</th>\n",
       "      <td>20001218X45444</td>\n",
       "      <td>Accident</td>\n",
       "      <td>SEA87LA080</td>\n",
       "      <td>1948-10-24</td>\n",
       "      <td>MOOSE CREEK, ID</td>\n",
       "      <td>United States</td>\n",
       "      <td>NaN</td>\n",
       "      <td>NaN</td>\n",
       "      <td>NaN</td>\n",
       "      <td>NaN</td>\n",
       "      <td>...</td>\n",
       "      <td>Personal</td>\n",
       "      <td>NaN</td>\n",
       "      <td>2.0</td>\n",
       "      <td>0.0</td>\n",
       "      <td>0.0</td>\n",
       "      <td>0.0</td>\n",
       "      <td>UNK</td>\n",
       "      <td>Cruise</td>\n",
       "      <td>Probable Cause</td>\n",
       "      <td>NaN</td>\n",
       "    </tr>\n",
       "    <tr>\n",
       "      <th>1</th>\n",
       "      <td>20001218X45447</td>\n",
       "      <td>Accident</td>\n",
       "      <td>LAX94LA336</td>\n",
       "      <td>1962-07-19</td>\n",
       "      <td>BRIDGEPORT, CA</td>\n",
       "      <td>United States</td>\n",
       "      <td>NaN</td>\n",
       "      <td>NaN</td>\n",
       "      <td>NaN</td>\n",
       "      <td>NaN</td>\n",
       "      <td>...</td>\n",
       "      <td>Personal</td>\n",
       "      <td>NaN</td>\n",
       "      <td>4.0</td>\n",
       "      <td>0.0</td>\n",
       "      <td>0.0</td>\n",
       "      <td>0.0</td>\n",
       "      <td>UNK</td>\n",
       "      <td>Unknown</td>\n",
       "      <td>Probable Cause</td>\n",
       "      <td>19-09-1996</td>\n",
       "    </tr>\n",
       "    <tr>\n",
       "      <th>2</th>\n",
       "      <td>20061025X01555</td>\n",
       "      <td>Accident</td>\n",
       "      <td>NYC07LA005</td>\n",
       "      <td>1974-08-30</td>\n",
       "      <td>Saltville, VA</td>\n",
       "      <td>United States</td>\n",
       "      <td>36.922223</td>\n",
       "      <td>-81.878056</td>\n",
       "      <td>NaN</td>\n",
       "      <td>NaN</td>\n",
       "      <td>...</td>\n",
       "      <td>Personal</td>\n",
       "      <td>NaN</td>\n",
       "      <td>3.0</td>\n",
       "      <td>NaN</td>\n",
       "      <td>NaN</td>\n",
       "      <td>NaN</td>\n",
       "      <td>IMC</td>\n",
       "      <td>Cruise</td>\n",
       "      <td>Probable Cause</td>\n",
       "      <td>26-02-2007</td>\n",
       "    </tr>\n",
       "    <tr>\n",
       "      <th>3</th>\n",
       "      <td>20001218X45448</td>\n",
       "      <td>Accident</td>\n",
       "      <td>LAX96LA321</td>\n",
       "      <td>1977-06-19</td>\n",
       "      <td>EUREKA, CA</td>\n",
       "      <td>United States</td>\n",
       "      <td>NaN</td>\n",
       "      <td>NaN</td>\n",
       "      <td>NaN</td>\n",
       "      <td>NaN</td>\n",
       "      <td>...</td>\n",
       "      <td>Personal</td>\n",
       "      <td>NaN</td>\n",
       "      <td>2.0</td>\n",
       "      <td>0.0</td>\n",
       "      <td>0.0</td>\n",
       "      <td>0.0</td>\n",
       "      <td>IMC</td>\n",
       "      <td>Cruise</td>\n",
       "      <td>Probable Cause</td>\n",
       "      <td>12-09-2000</td>\n",
       "    </tr>\n",
       "    <tr>\n",
       "      <th>4</th>\n",
       "      <td>20041105X01764</td>\n",
       "      <td>Accident</td>\n",
       "      <td>CHI79FA064</td>\n",
       "      <td>1979-08-02</td>\n",
       "      <td>Canton, OH</td>\n",
       "      <td>United States</td>\n",
       "      <td>NaN</td>\n",
       "      <td>NaN</td>\n",
       "      <td>NaN</td>\n",
       "      <td>NaN</td>\n",
       "      <td>...</td>\n",
       "      <td>Personal</td>\n",
       "      <td>NaN</td>\n",
       "      <td>1.0</td>\n",
       "      <td>2.0</td>\n",
       "      <td>NaN</td>\n",
       "      <td>0.0</td>\n",
       "      <td>VMC</td>\n",
       "      <td>Approach</td>\n",
       "      <td>Probable Cause</td>\n",
       "      <td>16-04-1980</td>\n",
       "    </tr>\n",
       "  </tbody>\n",
       "</table>\n",
       "<p>5 rows × 31 columns</p>\n",
       "</div>"
      ],
      "text/plain": [
       "         Event.Id Investigation.Type Accident.Number  Event.Date  \\\n",
       "0  20001218X45444           Accident      SEA87LA080  1948-10-24   \n",
       "1  20001218X45447           Accident      LAX94LA336  1962-07-19   \n",
       "2  20061025X01555           Accident      NYC07LA005  1974-08-30   \n",
       "3  20001218X45448           Accident      LAX96LA321  1977-06-19   \n",
       "4  20041105X01764           Accident      CHI79FA064  1979-08-02   \n",
       "\n",
       "          Location        Country   Latitude   Longitude Airport.Code  \\\n",
       "0  MOOSE CREEK, ID  United States        NaN         NaN          NaN   \n",
       "1   BRIDGEPORT, CA  United States        NaN         NaN          NaN   \n",
       "2    Saltville, VA  United States  36.922223  -81.878056          NaN   \n",
       "3       EUREKA, CA  United States        NaN         NaN          NaN   \n",
       "4       Canton, OH  United States        NaN         NaN          NaN   \n",
       "\n",
       "  Airport.Name  ... Purpose.of.flight Air.carrier Total.Fatal.Injuries  \\\n",
       "0          NaN  ...          Personal         NaN                  2.0   \n",
       "1          NaN  ...          Personal         NaN                  4.0   \n",
       "2          NaN  ...          Personal         NaN                  3.0   \n",
       "3          NaN  ...          Personal         NaN                  2.0   \n",
       "4          NaN  ...          Personal         NaN                  1.0   \n",
       "\n",
       "  Total.Serious.Injuries Total.Minor.Injuries Total.Uninjured  \\\n",
       "0                    0.0                  0.0             0.0   \n",
       "1                    0.0                  0.0             0.0   \n",
       "2                    NaN                  NaN             NaN   \n",
       "3                    0.0                  0.0             0.0   \n",
       "4                    2.0                  NaN             0.0   \n",
       "\n",
       "  Weather.Condition  Broad.phase.of.flight   Report.Status Publication.Date  \n",
       "0               UNK                 Cruise  Probable Cause              NaN  \n",
       "1               UNK                Unknown  Probable Cause       19-09-1996  \n",
       "2               IMC                 Cruise  Probable Cause       26-02-2007  \n",
       "3               IMC                 Cruise  Probable Cause       12-09-2000  \n",
       "4               VMC               Approach  Probable Cause       16-04-1980  \n",
       "\n",
       "[5 rows x 31 columns]"
      ]
     },
     "execution_count": 88,
     "metadata": {},
     "output_type": "execute_result"
    }
   ],
   "source": [
    "#This tells pandas to read the file in one go and figure it out better:\n",
    "\n",
    "Aviation_df=pd.read_csv(\"Aviation_Data.csv\", low_memory=False)\n",
    "\n",
    "\n",
    "\n",
    "Aviation_df.head()\n"
   ]
  },
  {
   "cell_type": "code",
   "execution_count": 89,
   "metadata": {
    "colab": {
     "base_uri": "https://localhost:8080/"
    },
    "id": "xUhxG9eKoAbO",
    "outputId": "4c0b6830-d8e5-4197-b439-9f8e702e9b42"
   },
   "outputs": [
    {
     "name": "stdout",
     "output_type": "stream",
     "text": [
      "<class 'pandas.core.frame.DataFrame'>\n",
      "RangeIndex: 90348 entries, 0 to 90347\n",
      "Data columns (total 31 columns):\n",
      " #   Column                  Non-Null Count  Dtype  \n",
      "---  ------                  --------------  -----  \n",
      " 0   Event.Id                88889 non-null  object \n",
      " 1   Investigation.Type      90348 non-null  object \n",
      " 2   Accident.Number         88889 non-null  object \n",
      " 3   Event.Date              88889 non-null  object \n",
      " 4   Location                88837 non-null  object \n",
      " 5   Country                 88663 non-null  object \n",
      " 6   Latitude                34382 non-null  object \n",
      " 7   Longitude               34373 non-null  object \n",
      " 8   Airport.Code            50132 non-null  object \n",
      " 9   Airport.Name            52704 non-null  object \n",
      " 10  Injury.Severity         87889 non-null  object \n",
      " 11  Aircraft.damage         85695 non-null  object \n",
      " 12  Aircraft.Category       32287 non-null  object \n",
      " 13  Registration.Number     87507 non-null  object \n",
      " 14  Make                    88826 non-null  object \n",
      " 15  Model                   88797 non-null  object \n",
      " 16  Amateur.Built           88787 non-null  object \n",
      " 17  Number.of.Engines       82805 non-null  float64\n",
      " 18  Engine.Type             81793 non-null  object \n",
      " 19  FAR.Description         32023 non-null  object \n",
      " 20  Schedule                12582 non-null  object \n",
      " 21  Purpose.of.flight       82697 non-null  object \n",
      " 22  Air.carrier             16648 non-null  object \n",
      " 23  Total.Fatal.Injuries    77488 non-null  float64\n",
      " 24  Total.Serious.Injuries  76379 non-null  float64\n",
      " 25  Total.Minor.Injuries    76956 non-null  float64\n",
      " 26  Total.Uninjured         82977 non-null  float64\n",
      " 27  Weather.Condition       84397 non-null  object \n",
      " 28  Broad.phase.of.flight   61724 non-null  object \n",
      " 29  Report.Status           82505 non-null  object \n",
      " 30  Publication.Date        73659 non-null  object \n",
      "dtypes: float64(5), object(26)\n",
      "memory usage: 21.4+ MB\n"
     ]
    }
   ],
   "source": [
    "Aviation_df.info()"
   ]
  },
  {
   "cell_type": "markdown",
   "metadata": {
    "id": "lVNcAQxxqFpd"
   },
   "source": [
    "Key Observations:\n",
    "You have 90,348 rows and 31 columns.\n",
    "\n",
    "Many columns like Latitude, Longitude, Aircraft.Category, etc. have a lot of missing values.\n",
    "\n",
    "Most columns are of type object, and 5 are numerical (float64).\n",
    "\n"
   ]
  },
  {
   "cell_type": "code",
   "execution_count": 90,
   "metadata": {
    "colab": {
     "base_uri": "https://localhost:8080/",
     "height": 1000
    },
    "id": "5aKokl__qIB5",
    "outputId": "661f4054-4731-4012-a31b-bde7c1d0267b"
   },
   "outputs": [
    {
     "data": {
      "text/plain": [
       "Schedule                  77766\n",
       "Air.carrier               73700\n",
       "FAR.Description           58325\n",
       "Aircraft.Category         58061\n",
       "Longitude                 55975\n",
       "Latitude                  55966\n",
       "Airport.Code              40216\n",
       "Airport.Name              37644\n",
       "Broad.phase.of.flight     28624\n",
       "Publication.Date          16689\n",
       "Total.Serious.Injuries    13969\n",
       "Total.Minor.Injuries      13392\n",
       "Total.Fatal.Injuries      12860\n",
       "Engine.Type                8555\n",
       "Report.Status              7843\n",
       "Purpose.of.flight          7651\n",
       "Number.of.Engines          7543\n",
       "Total.Uninjured            7371\n",
       "Weather.Condition          5951\n",
       "Aircraft.damage            4653\n",
       "Registration.Number        2841\n",
       "Injury.Severity            2459\n",
       "Country                    1685\n",
       "Amateur.Built              1561\n",
       "Model                      1551\n",
       "Make                       1522\n",
       "Location                   1511\n",
       "Event.Date                 1459\n",
       "Accident.Number            1459\n",
       "Event.Id                   1459\n",
       "Investigation.Type            0\n",
       "dtype: int64"
      ]
     },
     "execution_count": 90,
     "metadata": {},
     "output_type": "execute_result"
    }
   ],
   "source": [
    "#checking Missing Data in Detail\n",
    "Aviation_df.isnull().sum().sort_values(ascending=False)\n",
    "\n"
   ]
  },
  {
   "cell_type": "markdown",
   "metadata": {
    "id": "wqBZcR54rWZs"
   },
   "source": [
    "Droping  Columns With Too Much Missing Data\n",
    "We’ll drop columns with more than 60% missing, since they are likely not usable:"
   ]
  },
  {
   "cell_type": "code",
   "execution_count": 91,
   "metadata": {
    "id": "-wjk0gIrrXE2"
   },
   "outputs": [],
   "source": [
    "Aviation_df.drop(['Schedule', 'Air.carrier', 'FAR.Description', 'Aircraft.Category', 'Latitude', 'Longitude'], axis=1, inplace=True)\n"
   ]
  },
  {
   "cell_type": "markdown",
   "metadata": {
    "id": "vobGivx-rvPU"
   },
   "source": [
    "Confirm Remaining Columns\n",
    "Check again which columns still have missing data (but less severe):"
   ]
  },
  {
   "cell_type": "code",
   "execution_count": 92,
   "metadata": {
    "colab": {
     "base_uri": "https://localhost:8080/",
     "height": 867
    },
    "id": "aLBkUFm9rxOe",
    "outputId": "2809e4af-9d3e-44d0-b9df-bd07e4c54ec9"
   },
   "outputs": [
    {
     "data": {
      "text/plain": [
       "Airport.Code              40216\n",
       "Airport.Name              37644\n",
       "Broad.phase.of.flight     28624\n",
       "Publication.Date          16689\n",
       "Total.Serious.Injuries    13969\n",
       "Total.Minor.Injuries      13392\n",
       "Total.Fatal.Injuries      12860\n",
       "Engine.Type                8555\n",
       "Report.Status              7843\n",
       "Purpose.of.flight          7651\n",
       "Number.of.Engines          7543\n",
       "Total.Uninjured            7371\n",
       "Weather.Condition          5951\n",
       "Aircraft.damage            4653\n",
       "Registration.Number        2841\n",
       "Injury.Severity            2459\n",
       "Country                    1685\n",
       "Amateur.Built              1561\n",
       "Model                      1551\n",
       "Make                       1522\n",
       "Location                   1511\n",
       "Event.Date                 1459\n",
       "Accident.Number            1459\n",
       "Event.Id                   1459\n",
       "Investigation.Type            0\n",
       "dtype: int64"
      ]
     },
     "execution_count": 92,
     "metadata": {},
     "output_type": "execute_result"
    }
   ],
   "source": [
    "Aviation_df.isnull().sum().sort_values(ascending=False)\n"
   ]
  },
  {
   "cell_type": "markdown",
   "metadata": {
    "id": "DsF1zcYaslz7"
   },
   "source": [
    "I  still have moderate missing data in several columns, especially:\n",
    "\n",
    "Airport.Code, Airport.Name (missing  around 40k)\n",
    "\n",
    "Injury data (Total.Serious.Injuries, Fatal, Minor)\n",
    "\n",
    "Engine.Type, Purpose.of.flight, etc."
   ]
  },
  {
   "cell_type": "code",
   "execution_count": 93,
   "metadata": {
    "id": "4frqNmKdunhu"
   },
   "outputs": [],
   "source": [
    "Aviation_df.drop(['Airport.Code', 'Airport.Name'], axis=1, inplace=True)\n"
   ]
  },
  {
   "cell_type": "markdown",
   "metadata": {
    "id": "4GWi3a8AuHrh"
   },
   "source": [
    "Am droppping Airport code and Airport name coz are of less importance in my analysis And fill Injury Columns ; fill missing with 0.0 since no data might mean no injuries:"
   ]
  },
  {
   "cell_type": "code",
   "execution_count": 94,
   "metadata": {
    "id": "29YvDnvIuj9r"
   },
   "outputs": [],
   "source": [
    "\n",
    "#is risky because it might be working on a copy of the data, not the real DataFrame.\n",
    "#So in the future, it won’t work the way you expect.\n",
    "Aviation_df['Total.Fatal.Injuries'] = Aviation_df['Total.Fatal.Injuries'].fillna(0.0)\n",
    "Aviation_df['Total.Serious.Injuries'] = Aviation_df['Total.Serious.Injuries'].fillna(0.0)\n",
    "Aviation_df['Total.Minor.Injuries'] = Aviation_df['Total.Minor.Injuries'].fillna(0.0)\n",
    "Aviation_df['Total.Uninjured'] = Aviation_df['Total.Uninjured'].fillna(0.0)\n"
   ]
  },
  {
   "cell_type": "markdown",
   "metadata": {
    "id": "xcGHZ8atvS3X"
   },
   "source": [
    "Categorical Columns – fill with \"Unknown\":"
   ]
  },
  {
   "cell_type": "code",
   "execution_count": 95,
   "metadata": {
    "id": "IHHhTqFqvT2z"
   },
   "outputs": [],
   "source": [
    "Aviation_df['Engine.Type'] = Aviation_df['Engine.Type'].fillna(\"Unknown\")\n",
    "Aviation_df['Purpose.of.flight'] = Aviation_df['Purpose.of.flight'].fillna(\"Unknown\")\n",
    "Aviation_df['Weather.Condition'] = Aviation_df['Weather.Condition'].fillna(\"Unknown\")\n",
    "Aviation_df['Aircraft.damage'] = Aviation_df['Aircraft.damage'].fillna(\"Unknown\")\n",
    "Aviation_df['Registration.Number'] = Aviation_df['Registration.Number'].fillna(\"Unknown\")\n",
    "Aviation_df['Injury.Severity'] = Aviation_df['Injury.Severity'].fillna(\"Unknown\")\n",
    "Aviation_df['Country'] = Aviation_df['Country'].fillna(\"Unknown\")\n",
    "Aviation_df['Amateur.Built'] = Aviation_df['Amateur.Built'].fillna(\"Unknown\")\n",
    "Aviation_df['Model'] = Aviation_df['Model'].fillna(\"Unknown\")\n",
    "Aviation_df['Make'] = Aviation_df['Make'].fillna(\"Unknown\")\n",
    "Aviation_df['Location'] = Aviation_df['Location'].fillna(\"Unknown\")\n",
    "Aviation_df['Report.Status'] = Aviation_df['Report.Status'].fillna(\"Unknown\")\n",
    "Aviation_df['Broad.phase.of.flight'] = Aviation_df['Broad.phase.of.flight'].fillna(\"Unknown\")\n"
   ]
  },
  {
   "cell_type": "markdown",
   "metadata": {
    "id": "qKzU1txNeXqw"
   },
   "source": [
    "Printed the first ten dates to see how it looks"
   ]
  },
  {
   "cell_type": "code",
   "execution_count": 96,
   "metadata": {
    "colab": {
     "base_uri": "https://localhost:8080/"
    },
    "id": "VpEhhiPjc4Q0",
    "outputId": "17ab0eab-a7be-4f0c-e689-d556301ad379"
   },
   "outputs": [
    {
     "name": "stdout",
     "output_type": "stream",
     "text": [
      "0    1948-10-24\n",
      "1    1962-07-19\n",
      "2    1974-08-30\n",
      "3    1977-06-19\n",
      "4    1979-08-02\n",
      "5    1979-09-17\n",
      "6    1981-08-01\n",
      "7    1982-01-01\n",
      "8    1982-01-01\n",
      "9    1982-01-01\n",
      "Name: Event.Date, dtype: object\n"
     ]
    }
   ],
   "source": [
    "print(Aviation_df['Event.Date'].head(10))\n"
   ]
  },
  {
   "cell_type": "markdown",
   "metadata": {
    "id": "NDsFGvTFekbd"
   },
   "source": [
    "Wanted to confirm the data type ,if its in the reall format of dates"
   ]
  },
  {
   "cell_type": "code",
   "execution_count": 97,
   "metadata": {
    "colab": {
     "base_uri": "https://localhost:8080/"
    },
    "id": "BOp-Se9CdcM5",
    "outputId": "fa11eee7-2d96-4cf1-cfb3-501472d36da7"
   },
   "outputs": [
    {
     "name": "stdout",
     "output_type": "stream",
     "text": [
      "object\n"
     ]
    }
   ],
   "source": [
    "print(Aviation_df['Event.Date'].dtype)\n"
   ]
  },
  {
   "cell_type": "markdown",
   "metadata": {
    "id": "oZcXQdF5eu67"
   },
   "source": [
    "Saw some had unfilled date represented with NaN"
   ]
  },
  {
   "cell_type": "code",
   "execution_count": 98,
   "metadata": {
    "colab": {
     "base_uri": "https://localhost:8080/"
    },
    "id": "VF_WHI15drB-",
    "outputId": "9c95fb58-9cd4-4351-9e9b-7d183c96b255"
   },
   "outputs": [
    {
     "name": "stdout",
     "output_type": "stream",
     "text": [
      "43693    1998-04-12\n",
      "60238    2006-02-20\n",
      "84393    2019-06-29\n",
      "53516    2002-09-16\n",
      "7780     1984-03-23\n",
      "47934    2000-03-04\n",
      "79667    2016-10-23\n",
      "53847    2002-11-24\n",
      "17143    1987-04-01\n",
      "79273    2016-08-14\n",
      "Name: Event.Date, dtype: object\n"
     ]
    }
   ],
   "source": [
    "print(Aviation_df['Event.Date'].sample(10))  # Random sample of 10 values\n"
   ]
  },
  {
   "cell_type": "markdown",
   "metadata": {
    "id": "C4NZ8R0He305"
   },
   "source": [
    "Replaced the missing values with 2000-01-01"
   ]
  },
  {
   "cell_type": "code",
   "execution_count": 99,
   "metadata": {
    "id": "Upksp6ldeBH9"
   },
   "outputs": [],
   "source": [
    "# Step 1: Convert to datetime, forcing invalid ones to NaT\n",
    "Aviation_df['Event.Date'] = pd.to_datetime(Aviation_df['Event.Date'], errors='coerce')\n",
    "\n",
    "# Step 2: Replace only the NaT values with placeholder\n",
    "Aviation_df['Event.Date'] = Aviation_df['Event.Date'].fillna(pd.Timestamp('2000-01-01'))\n"
   ]
  },
  {
   "cell_type": "markdown",
   "metadata": {
    "id": "WJ9h4OD2e-P8"
   },
   "source": [
    "Confirmed how many were replaced"
   ]
  },
  {
   "cell_type": "code",
   "execution_count": 100,
   "metadata": {
    "colab": {
     "base_uri": "https://localhost:8080/"
    },
    "id": "l-jSM56SeCvb",
    "outputId": "7b69cff5-dbfb-4a84-e541-bdd4df123c03"
   },
   "outputs": [
    {
     "name": "stdout",
     "output_type": "stream",
     "text": [
      "Replaced missing dates: 1461\n"
     ]
    }
   ],
   "source": [
    "print(\"Replaced missing dates:\", (Aviation_df['Event.Date'] == '2000-01-01').sum())\n"
   ]
  },
  {
   "cell_type": "markdown",
   "metadata": {
    "id": "IaGL7NnLwoJp"
   },
   "source": [
    "Convert Event.Date and Fill:"
   ]
  },
  {
   "cell_type": "markdown",
   "metadata": {
    "id": "ap19Byo-xlOg"
   },
   "source": [
    "Final check of the data after cleaning"
   ]
  },
  {
   "cell_type": "code",
   "execution_count": 101,
   "metadata": {
    "colab": {
     "base_uri": "https://localhost:8080/",
     "height": 805
    },
    "id": "jpmiq6E5xoi5",
    "outputId": "c2aedc56-bcbe-4eb8-baf2-8fb42835867a"
   },
   "outputs": [
    {
     "data": {
      "text/plain": [
       "Publication.Date          16689\n",
       "Number.of.Engines          7543\n",
       "Event.Id                   1459\n",
       "Accident.Number            1459\n",
       "Event.Date                    0\n",
       "Purpose.of.flight             0\n",
       "Report.Status                 0\n",
       "Broad.phase.of.flight         0\n",
       "Weather.Condition             0\n",
       "Total.Uninjured               0\n",
       "Total.Minor.Injuries          0\n",
       "Total.Serious.Injuries        0\n",
       "Total.Fatal.Injuries          0\n",
       "Engine.Type                   0\n",
       "Location                      0\n",
       "Investigation.Type            0\n",
       "Model                         0\n",
       "Make                          0\n",
       "Registration.Number           0\n",
       "Aircraft.damage               0\n",
       "Injury.Severity               0\n",
       "Country                       0\n",
       "Amateur.Built                 0\n",
       "dtype: int64"
      ]
     },
     "execution_count": 101,
     "metadata": {},
     "output_type": "execute_result"
    }
   ],
   "source": [
    "Aviation_df.isnull().sum().sort_values(ascending=False)\n"
   ]
  },
  {
   "cell_type": "markdown",
   "metadata": {
    "id": "MCpnfaI3yZRP"
   },
   "source": [
    "Want to drop Publication (date mainly used in reporting not safety ) and Unique identifiers (mainly for traceability but not analysis) and fill the number of enginees coz safety   sometimes depend on it"
   ]
  },
  {
   "cell_type": "code",
   "execution_count": 102,
   "metadata": {
    "id": "1Yds8HpTzFpM"
   },
   "outputs": [],
   "source": [
    "# Drop unnecessary columns\n",
    "Aviation_df.drop(['Publication.Date', 'Event.Id', 'Accident.Number'], axis=1, inplace=True)\n",
    "\n",
    "# Fill missing engine counts with 0 (or 'Unknown' if you want to treat them differently)\n",
    "Aviation_df['Number.of.Engines'] = Aviation_df['Number.of.Engines'].fillna(0)\n"
   ]
  },
  {
   "cell_type": "markdown",
   "metadata": {
    "id": "PzWdWWXKzcIE"
   },
   "source": [
    "The final check of of my data"
   ]
  },
  {
   "cell_type": "code",
   "execution_count": 103,
   "metadata": {
    "colab": {
     "base_uri": "https://localhost:8080/",
     "height": 711
    },
    "id": "s-LF-Imuzhu9",
    "outputId": "4d1f362b-61ff-4c33-fd78-55fa958b880c"
   },
   "outputs": [
    {
     "data": {
      "text/plain": [
       "Investigation.Type        0\n",
       "Event.Date                0\n",
       "Broad.phase.of.flight     0\n",
       "Weather.Condition         0\n",
       "Total.Uninjured           0\n",
       "Total.Minor.Injuries      0\n",
       "Total.Serious.Injuries    0\n",
       "Total.Fatal.Injuries      0\n",
       "Purpose.of.flight         0\n",
       "Engine.Type               0\n",
       "Number.of.Engines         0\n",
       "Amateur.Built             0\n",
       "Model                     0\n",
       "Make                      0\n",
       "Registration.Number       0\n",
       "Aircraft.damage           0\n",
       "Injury.Severity           0\n",
       "Country                   0\n",
       "Location                  0\n",
       "Report.Status             0\n",
       "dtype: int64"
      ]
     },
     "execution_count": 103,
     "metadata": {},
     "output_type": "execute_result"
    }
   ],
   "source": [
    "Aviation_df.isnull().sum().sort_values(ascending=False)\n"
   ]
  },
  {
   "cell_type": "markdown",
   "metadata": {
    "id": "mN7N1W4Lzl4S"
   },
   "source": [
    "Perfect now am good to go"
   ]
  },
  {
   "cell_type": "code",
   "execution_count": 104,
   "metadata": {
    "colab": {
     "base_uri": "https://localhost:8080/"
    },
    "id": "ovRHioSwzopr",
    "outputId": "09814f66-9ced-4000-d2a0-cadd60c8b944"
   },
   "outputs": [
    {
     "name": "stdout",
     "output_type": "stream",
     "text": [
      "<class 'pandas.core.frame.DataFrame'>\n",
      "RangeIndex: 90348 entries, 0 to 90347\n",
      "Data columns (total 20 columns):\n",
      " #   Column                  Non-Null Count  Dtype         \n",
      "---  ------                  --------------  -----         \n",
      " 0   Investigation.Type      90348 non-null  object        \n",
      " 1   Event.Date              90348 non-null  datetime64[ns]\n",
      " 2   Location                90348 non-null  object        \n",
      " 3   Country                 90348 non-null  object        \n",
      " 4   Injury.Severity         90348 non-null  object        \n",
      " 5   Aircraft.damage         90348 non-null  object        \n",
      " 6   Registration.Number     90348 non-null  object        \n",
      " 7   Make                    90348 non-null  object        \n",
      " 8   Model                   90348 non-null  object        \n",
      " 9   Amateur.Built           90348 non-null  object        \n",
      " 10  Number.of.Engines       90348 non-null  float64       \n",
      " 11  Engine.Type             90348 non-null  object        \n",
      " 12  Purpose.of.flight       90348 non-null  object        \n",
      " 13  Total.Fatal.Injuries    90348 non-null  float64       \n",
      " 14  Total.Serious.Injuries  90348 non-null  float64       \n",
      " 15  Total.Minor.Injuries    90348 non-null  float64       \n",
      " 16  Total.Uninjured         90348 non-null  float64       \n",
      " 17  Weather.Condition       90348 non-null  object        \n",
      " 18  Broad.phase.of.flight   90348 non-null  object        \n",
      " 19  Report.Status           90348 non-null  object        \n",
      "dtypes: datetime64[ns](1), float64(5), object(14)\n",
      "memory usage: 13.8+ MB\n"
     ]
    }
   ],
   "source": [
    "Aviation_df.info()"
   ]
  },
  {
   "cell_type": "markdown",
   "metadata": {
    "id": "S7N_ghay7ijR"
   },
   "source": [
    "saving the cleaned data"
   ]
  },
  {
   "cell_type": "code",
   "execution_count": 105,
   "metadata": {
    "colab": {
     "base_uri": "https://localhost:8080/"
    },
    "id": "-B5LUAaZM8Jh",
    "outputId": "4a905fd2-583d-4155-c894-e2545cdc6222"
   },
   "outputs": [
    {
     "name": "stdout",
     "output_type": "stream",
     "text": [
      "Purpose.of.flight\n",
      "Personal                     49448\n",
      "Unknown                      14453\n",
      "Instructional                10601\n",
      "Aerial Application            4712\n",
      "Business                      4018\n",
      "Positioning                   1646\n",
      "Other Work Use                1264\n",
      "Ferry                          812\n",
      "Aerial Observation             794\n",
      "Public Aircraft                720\n",
      "Executive/corporate            553\n",
      "Flight Test                    405\n",
      "Skydiving                      182\n",
      "External Load                  123\n",
      "Public Aircraft - Federal      105\n",
      "Banner Tow                     101\n",
      "Air Race show                   99\n",
      "Public Aircraft - Local         74\n",
      "Public Aircraft - State         64\n",
      "Air Race/show                   59\n",
      "Glider Tow                      53\n",
      "Firefighting                    40\n",
      "Air Drop                        11\n",
      "ASHO                             6\n",
      "PUBS                             4\n",
      "PUBL                             1\n",
      "Name: count, dtype: int64\n"
     ]
    }
   ],
   "source": [
    "# Step 3: Get unique values and their counts\n",
    "purpose_counts = Aviation_df['Purpose.of.flight'].value_counts()\n",
    "print(purpose_counts)"
   ]
  },
  {
   "cell_type": "code",
   "execution_count": 106,
   "metadata": {
    "colab": {
     "base_uri": "https://localhost:8080/"
    },
    "id": "szxc9s0sQ8Ob",
    "outputId": "ad4fb3df-866f-4f91-c36d-e807ea50a64a"
   },
   "outputs": [
    {
     "name": "stdout",
     "output_type": "stream",
     "text": [
      "Engine.Type\n",
      "Reciprocating      69530\n",
      "Unknown            10606\n",
      "Turbo Shaft         3609\n",
      "Turbo Prop          3391\n",
      "Turbo Fan           2481\n",
      "Turbo Jet            703\n",
      "Geared Turbofan       12\n",
      "Electric              10\n",
      "LR                     2\n",
      "NONE                   2\n",
      "Hybrid Rocket          1\n",
      "UNK                    1\n",
      "Name: count, dtype: int64\n"
     ]
    }
   ],
   "source": [
    "purpose_counts = Aviation_df['Engine.Type'].value_counts()\n",
    "print(purpose_counts)"
   ]
  },
  {
   "cell_type": "markdown",
   "metadata": {
    "id": "_Cy3-eAj3Sfn"
   },
   "source": [
    "Saving in my project folder the cleaned data to use in tablue"
   ]
  },
  {
   "cell_type": "markdown",
   "metadata": {
    "id": "nelQv55gkrkJ"
   },
   "source": [
    "Want to do the viasualization with the cleaned data"
   ]
  },
  {
   "cell_type": "markdown",
   "metadata": {
    "id": "t6AfvKrM3iw6"
   },
   "source": [
    "Correcting the data type for Make Column"
   ]
  },
  {
   "cell_type": "markdown",
   "metadata": {
    "id": "j6TqIWla47JL"
   },
   "source": [
    " Replace None with appropriate text\n",
    "\"\"\"\n",
    "The two cases of inconsistent Make  naming are:\n",
    "\n",
    "\"Cessna\" and \"CESSNA\" – These should be combined as they refer to the same Make.\n",
    " \"piper\" and \" PIPER\" – The second entry has a leading space and should be cleaned to match the first.\n",
    "\n",
    "\"\"\""
   ]
  },
  {
   "cell_type": "code",
   "execution_count": 107,
   "metadata": {
    "id": "ajvYe09f5koD"
   },
   "outputs": [],
   "source": [
    "# Your code here\n",
    "# Strip leading/trailing spaces\n",
    "Aviation_df[\"Make\"] = Aviation_df[\"Make\"].str.strip()\n",
    "# Replace 'Marvel' with 'Marvel Comics'\n",
    "Aviation_df[\"Make\"] = Aviation_df[\"Make\"].replace(\"Cessna\", \"CESSNA\")\n",
    "# Replace any remaining 'DC Comics' variants with consistent name\n",
    "Aviation_df[\"Make\"] = Aviation_df[\"Make\"].replace(\"Piper\", \"PIPER\")\n",
    "Aviation_df[\"Make\"] = Aviation_df[\"Make\"].replace(\"Bell\", \"BELL\")\n",
    "Aviation_df[\"Make\"] = Aviation_df[\"Make\"].replace(\"Beech\", \"BEECH\")\n",
    "Aviation_df[\"Make\"] = Aviation_df[\"Make\"].replace(\"Boeing\", \"BOEING\")"
   ]
  },
  {
   "cell_type": "markdown",
   "metadata": {
    "id": "TgwBM2Dm6qbF"
   },
   "source": [
    "Checking wether the changes were applied"
   ]
  },
  {
   "cell_type": "code",
   "execution_count": 108,
   "metadata": {
    "colab": {
     "base_uri": "https://localhost:8080/",
     "height": 742
    },
    "id": "gzqsmoq05XRL",
    "outputId": "7db8e9ea-84ba-45c0-c783-91ca91a4ea2e"
   },
   "outputs": [
    {
     "data": {
      "text/plain": [
       "Make\n",
       "CESSNA               27149\n",
       "PIPER                14870\n",
       "BEECH                 5372\n",
       "BOEING                2745\n",
       "BELL                  2722\n",
       "Unknown               1543\n",
       "Grumman               1094\n",
       "Mooney                1092\n",
       "Robinson               946\n",
       "Bellanca               886\n",
       "Hughes                 795\n",
       "Schweizer              629\n",
       "Air Tractor            595\n",
       "Mcdonnell Douglas      526\n",
       "Aeronca                487\n",
       "Maule                  445\n",
       "Champion               428\n",
       "De Havilland           382\n",
       "Aero Commander         360\n",
       "Stinson                348\n",
       "Name: count, dtype: int64"
      ]
     },
     "execution_count": 108,
     "metadata": {},
     "output_type": "execute_result"
    }
   ],
   "source": [
    "Aviation_df[\"Make\"].value_counts().head(20)\n"
   ]
  },
  {
   "cell_type": "markdown",
   "metadata": {
    "id": "RPJEf_HC7KT7"
   },
   "source": [
    "Saving the changes"
   ]
  },
  {
   "cell_type": "code",
   "execution_count": 109,
   "metadata": {
    "id": "Dd_MfmU17NLb"
   },
   "outputs": [],
   "source": [
    "Aviation_df.to_csv(\"Sorted_Aviation_Data.csv\", index=False)"
   ]
  },
  {
   "cell_type": "markdown",
   "metadata": {
    "id": "MYlSGpw7hC1K"
   },
   "source": [
    "Creating a gragh of model&make against the Investigation.Type .Had filtered the top\n",
    "20 records and conditioned with>=10 and >=5 for both model and make"
   ]
  },
  {
   "cell_type": "code",
   "execution_count": 110,
   "metadata": {
    "colab": {
     "base_uri": "https://localhost:8080/",
     "height": 848
    },
    "id": "muCChYMT21vl",
    "outputId": "e6112c54-af89-42bf-e8e7-9d522392a500",
    "scrolled": true
   },
   "outputs": [
    {
     "data": {
      "image/png": "[encoded data removed]",
      "text/plain": [
       "<Figure size 1200x1000 with 1 Axes>"
      ]
     },
     "metadata": {},
     "output_type": "display_data"
    }
   ],
   "source": [
    "\n",
    "\n",
    "# Load the dataset\n",
    "df = pd.read_csv(\"Sorted_Aviation_Data.csv\")\n",
    "\n",
    "# Filter for accidents only\n",
    "accidents = df[df['Investigation.Type'] == 'Accident']\n",
    "\n",
    "# Get top 20 models by accident count\n",
    "top_models = accidents['Model'].value_counts().head(20)\n",
    "\n",
    "# Get the make for each of these top models\n",
    "model_make = accidents.groupby('Model')['Make'].first()\n",
    "\n",
    "# Create a combined dataframe\n",
    "frequency = pd.DataFrame({\n",
    "    'Count': top_models,\n",
    "    'Make': model_make[top_models.index]\n",
    "}).reset_index()\n",
    "\n",
    "frequency.columns = ['Model', 'Count', 'Make']\n",
    "\n",
    "# Combine Make and Model\n",
    "frequency['Make_Model'] = frequency['Make'] + ' ' + frequency['Model']\n",
    "\n",
    "# Sort by accident count (least to most)\n",
    "frequency = frequency.sort_values('Count', ascending=True)\n",
    "\n",
    "# Plot\n",
    "plt.figure(figsize=(12, 10))\n",
    "bars = plt.barh(\n",
    "    y=frequency['Make_Model'],\n",
    "    width=frequency['Count'],\n",
    "    color='#1f77b4'\n",
    ")\n",
    "\n",
    "# Add labels to bars\n",
    "for bar in bars:\n",
    "    width = bar.get_width()\n",
    "    plt.text(width + 5,\n",
    "             bar.get_y() + bar.get_height() / 2,\n",
    "             f'{int(width)}',\n",
    "             va='center',\n",
    "             fontsize=10)\n",
    "\n",
    "# Customize plot appearance\n",
    "plt.xlabel('Number of Accidents', fontsize=12)\n",
    "plt.ylabel('Aircraft Make & Model', fontsize=12)\n",
    "plt.title('Top 20 Aircraft Models by Accident Frequency (Sorted Least to Most)',\n",
    "          fontsize=14, pad=20)\n",
    "plt.grid(axis='x', linestyle='--', alpha=0.3)\n",
    "\n",
    "# Remove top and right spines\n",
    "for spine in ['top', 'right']:\n",
    "    plt.gca().spines[spine].set_visible(False)\n",
    "\n",
    "# Final layout and show plot\n",
    "plt.tight_layout()\n",
    "plt.show()\n"
   ]
  },
  {
   "cell_type": "code",
   "execution_count": null,
   "metadata": {},
   "outputs": [],
   "source": [
    "Resposes explaining the gragh \n",
    "\"\"\"\n",
    "For the Top 20  Model \n",
    "Top Risky Models:\n",
    "Cessna 152: 94 incidents\n",
    "Cessna 172: 178 incidents\n",
    "Piper PA-28-140: 33 incidents\n",
    "\n",
    "Which Concluded:\n",
    "These popular training planes have high exposure  Not ideal for new operators.\n",
    "Why? \n",
    "These models dominate incident reports; likely due to training use and high fleet numbers!\n",
    "\"\"\""
   ]
  },
  {
   "cell_type": "markdown",
   "metadata": {
    "id": "THR6bt4PhC1L"
   },
   "source": [
    "Damage Severity graph the Finding 2"
   ]
  },
  {
   "cell_type": "code",
   "execution_count": 112,
   "metadata": {
    "colab": {
     "base_uri": "https://localhost:8080/",
     "height": 505
    },
    "id": "NeIguqpdM-Cw",
    "outputId": "1157dce6-ecb2-456f-b3f7-fc0e27727527"
   },
   "outputs": [
    {
     "data": {
      "text/plain": [
       "<Figure size 2400x1400 with 0 Axes>"
      ]
     },
     "metadata": {},
     "output_type": "display_data"
    },
    {
     "data": {
      "image/png": "[encoded data removed]",
      "text/plain": [
       "<Figure size 640x480 with 1 Axes>"
      ]
     },
     "metadata": {},
     "output_type": "display_data"
    }
   ],
   "source": [
    "import pandas as pd\n",
    "import matplotlib.pyplot as plt\n",
    "\n",
    "# Load and filter data\n",
    "df = pd.read_csv(\"Sorted_Aviation_Data.csv\")\n",
    "accidents = df[df['Investigation.Type'] == 'Accident']\n",
    "top_models = accidents['Model'].value_counts().head(20).index\n",
    "filtered = accidents[accidents['Model'].isin(top_models)]\n",
    "\n",
    "# Replace your current Risk Level assignment with:\n",
    "filtered = filtered.copy()  # Explicitly create a copy first\n",
    "filtered['Risk Level'] = ['High Risk' if (sev == 'Fatal') or (dam == 'Destroyed')\n",
    "                         else 'Standard Risk'\n",
    "                         for sev, dam in zip(filtered['Injury.Severity'], filtered['Aircraft.damage'])]\n",
    "# Prepare data\n",
    "risk_counts = filtered.groupby(['Model', 'Risk Level']).size().unstack().fillna(0)\n",
    "risk_counts = risk_counts.sort_values('High Risk', ascending=False)\n",
    "\n",
    "# Create plot\n",
    "#plt.figure(figsize=(12, 7))\n",
    "plt.figure(figsize=(24, 14))  # Larger dimensions\n",
    "plt.tight_layout(pad=3)  # Add extra padding\n",
    "risk_counts[['High Risk', 'Standard Risk']].plot(\n",
    "    kind='bar',\n",
    "    stacked=True,\n",
    "    color=['red', 'blue'],  # Simple, clear colors\n",
    "    width=0.8\n",
    ")\n",
    "\n",
    "# Basic formatting\n",
    "plt.title('Top 20 Aircraft Models by Risk Level', size=14)\n",
    "plt.xlabel('Model', size=12)\n",
    "plt.ylabel('Count of Injury.Severity', size=12)\n",
    "plt.xticks(rotation=45, ha='right')\n",
    "plt.legend(title='Risk Level')\n",
    "plt.grid(axis='y', alpha=0.2)\n",
    "\n",
    "# Add total counts\n",
    "for i, total in enumerate(risk_counts.sum(axis=1)):\n",
    "    plt.text(i, total + 5, str(int(total)), ha='center', size=10)\n",
    "\n",
    "plt.tight_layout()\n",
    "plt.show()"
   ]
  },
  {
   "cell_type": "markdown",
   "metadata": {
    "id": "8mVnRWhq2vyX"
   },
   "source": [
    "Response for the Damage Severity\n",
    "\"\"\"\n",
    "Shows some models frequently result in total losses(35% for Cessana 152)\n",
    "Ground Cessna 152/172 and Piper PA-28s from initial fleet plans.\n",
    "Lease Cessna 206B for early operations to minimize risk.\n",
    "Audit Boeing 737 data for commercial viability.\n",
    "\"\"\"\n",
    "\"\"\"\n",
    "Cessna 152: 35% of accidents result in total loss.\n",
    "Piper PA-28-140: 99.7% severe damage rate.\n",
    "Cessna 206B: 92% minor damage—ideal for cost control\n",
    "\"\"\"\n"
   ]
  },
  {
   "cell_type": "markdown",
   "metadata": {
    "id": "rmlzdrQDhC1N"
   },
   "source": [
    "Finding 3-Safety Score gragh  "
   ]
  },
  {
   "cell_type": "code",
   "execution_count": null,
   "metadata": {
    "id": "i3186S_shC1O"
   },
   "outputs": [],
   "source": [
    "Responses\n",
    "\"\"\"\n",
    "Cessna 152: 9,990.77 score but 1,883 severe accidents (Sheet 2).\n",
    "Boeing 737: 9,999.60 score + 1 incident (trustworthy).\n",
    "\n",
    "\"\"\"\n",
    "\"\"\"\n",
    "Cessna 206B (low damage) and Boeing 737 (low incidents + high score).\n",
    "\n",
    "\"\"\""
   ]
  },
  {
   "cell_type": "markdown",
   "metadata": {
    "id": "-1djKFzo3Qwt"
   },
   "source": [
    "Reccommendation\n",
    "\"\"\"\n",
    "Immediate Buys  Cessna 206 Priority acquisition-lowest damage rates\n",
    "Commercial option  Boeing 737 Lease for passenger routes-validated safety\n",
    "\n",
    "Conditional Use  Cessna 172/152 Only with school paertnerships(risk transfer)\n",
    "\"\"\"\n",
    "\n",
    "Q&A\n",
    "\"\"\"\n",
    "Cessna 206B (low damage) and Boeing 737 (low incidents + high score).\n",
    "\"\"\"\n",
    "\n"
   ]
  },
  {
   "cell_type": "markdown",
   "metadata": {
    "id": "i1BnERQa5L6E"
   },
   "source": [
    "Conclusion\n",
    "\"\"\"\n",
    "While safety scores appear strong across all models, cross-referencing with damage data reveals:\n",
    "Two safe paths forward:\n",
    "Build fleet around Cessna 206B/Boeing 737\n",
    "Negotiate risk-sharing for essential training aircraft\n",
    "\"\"\""
   ]
  }
 ],
 "metadata": {
  "colab": {
   "provenance": []
  },
  "kernelspec": {
   "display_name": "Python 3 (ipykernel)",
   "language": "python",
   "name": "python3"
  },
  "language_info": {
   "codemirror_mode": {
    "name": "ipython",
    "version": 3
   },
   "file_extension": ".py",
   "mimetype": "text/x-python",
   "name": "python",
   "nbconvert_exporter": "python",
   "pygments_lexer": "ipython3",
   "version": "3.11.7"
  }
 },
 "nbformat": 4,
 "nbformat_minor": 4
}
