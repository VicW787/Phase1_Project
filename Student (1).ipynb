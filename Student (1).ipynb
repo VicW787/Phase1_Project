{
  "cells": [
    {
      "cell_type": "markdown",
      "metadata": {
        "id": "02RKvFubhC0g"
      },
      "source": [
        "Reading the data and cleaning it"
      ]
    },
    {
      "cell_type": "code",
      "execution_count": 1,
      "metadata": {
        "id": "r7IVG8-7M4-F"
      },
      "outputs": [],
      "source": [
        "import pandas as pd\n",
        "import matplotlib.pyplot as plt\n"
      ]
    },
    {
      "cell_type": "code",
      "execution_count": 2,
      "metadata": {
        "colab": {
          "base_uri": "https://localhost:8080/",
          "height": 342
        },
        "id": "-eV2ue4WmNjK",
        "outputId": "66dd161f-e8ff-4943-ee44-2d6886f5e3f2"
      },
      "outputs": [
        {
          "output_type": "execute_result",
          "data": {
            "text/plain": [
              "         Event.Id Investigation.Type Accident.Number  Event.Date  \\\n",
              "0  20001218X45444           Accident      SEA87LA080  1948-10-24   \n",
              "1  20001218X45447           Accident      LAX94LA336  1962-07-19   \n",
              "2  20061025X01555           Accident      NYC07LA005  1974-08-30   \n",
              "3  20001218X45448           Accident      LAX96LA321  1977-06-19   \n",
              "4  20041105X01764           Accident      CHI79FA064  1979-08-02   \n",
              "\n",
              "          Location        Country   Latitude   Longitude Airport.Code  \\\n",
              "0  MOOSE CREEK, ID  United States        NaN         NaN          NaN   \n",
              "1   BRIDGEPORT, CA  United States        NaN         NaN          NaN   \n",
              "2    Saltville, VA  United States  36.922223  -81.878056          NaN   \n",
              "3       EUREKA, CA  United States        NaN         NaN          NaN   \n",
              "4       Canton, OH  United States        NaN         NaN          NaN   \n",
              "\n",
              "  Airport.Name  ... Purpose.of.flight Air.carrier Total.Fatal.Injuries  \\\n",
              "0          NaN  ...          Personal         NaN                  2.0   \n",
              "1          NaN  ...          Personal         NaN                  4.0   \n",
              "2          NaN  ...          Personal         NaN                  3.0   \n",
              "3          NaN  ...          Personal         NaN                  2.0   \n",
              "4          NaN  ...          Personal         NaN                  1.0   \n",
              "\n",
              "  Total.Serious.Injuries Total.Minor.Injuries Total.Uninjured  \\\n",
              "0                    0.0                  0.0             0.0   \n",
              "1                    0.0                  0.0             0.0   \n",
              "2                    NaN                  NaN             NaN   \n",
              "3                    0.0                  0.0             0.0   \n",
              "4                    2.0                  NaN             0.0   \n",
              "\n",
              "  Weather.Condition  Broad.phase.of.flight   Report.Status Publication.Date  \n",
              "0               UNK                 Cruise  Probable Cause              NaN  \n",
              "1               UNK                Unknown  Probable Cause       19-09-1996  \n",
              "2               IMC                 Cruise  Probable Cause       26-02-2007  \n",
              "3               IMC                 Cruise  Probable Cause       12-09-2000  \n",
              "4               VMC               Approach  Probable Cause       16-04-1980  \n",
              "\n",
              "[5 rows x 31 columns]"
            ],
            "text/html": [
              "\n",
              "  <div id=\"df-54d5dfff-ef9a-4adb-adce-f44fa1886cf4\" class=\"colab-df-container\">\n",
              "    <div>\n",
              "<style scoped>\n",
              "    .dataframe tbody tr th:only-of-type {\n",
              "        vertical-align: middle;\n",
              "    }\n",
              "\n",
              "    .dataframe tbody tr th {\n",
              "        vertical-align: top;\n",
              "    }\n",
              "\n",
              "    .dataframe thead th {\n",
              "        text-align: right;\n",
              "    }\n",
              "</style>\n",
              "<table border=\"1\" class=\"dataframe\">\n",
              "  <thead>\n",
              "    <tr style=\"text-align: right;\">\n",
              "      <th></th>\n",
              "      <th>Event.Id</th>\n",
              "      <th>Investigation.Type</th>\n",
              "      <th>Accident.Number</th>\n",
              "      <th>Event.Date</th>\n",
              "      <th>Location</th>\n",
              "      <th>Country</th>\n",
              "      <th>Latitude</th>\n",
              "      <th>Longitude</th>\n",
              "      <th>Airport.Code</th>\n",
              "      <th>Airport.Name</th>\n",
              "      <th>...</th>\n",
              "      <th>Purpose.of.flight</th>\n",
              "      <th>Air.carrier</th>\n",
              "      <th>Total.Fatal.Injuries</th>\n",
              "      <th>Total.Serious.Injuries</th>\n",
              "      <th>Total.Minor.Injuries</th>\n",
              "      <th>Total.Uninjured</th>\n",
              "      <th>Weather.Condition</th>\n",
              "      <th>Broad.phase.of.flight</th>\n",
              "      <th>Report.Status</th>\n",
              "      <th>Publication.Date</th>\n",
              "    </tr>\n",
              "  </thead>\n",
              "  <tbody>\n",
              "    <tr>\n",
              "      <th>0</th>\n",
              "      <td>20001218X45444</td>\n",
              "      <td>Accident</td>\n",
              "      <td>SEA87LA080</td>\n",
              "      <td>1948-10-24</td>\n",
              "      <td>MOOSE CREEK, ID</td>\n",
              "      <td>United States</td>\n",
              "      <td>NaN</td>\n",
              "      <td>NaN</td>\n",
              "      <td>NaN</td>\n",
              "      <td>NaN</td>\n",
              "      <td>...</td>\n",
              "      <td>Personal</td>\n",
              "      <td>NaN</td>\n",
              "      <td>2.0</td>\n",
              "      <td>0.0</td>\n",
              "      <td>0.0</td>\n",
              "      <td>0.0</td>\n",
              "      <td>UNK</td>\n",
              "      <td>Cruise</td>\n",
              "      <td>Probable Cause</td>\n",
              "      <td>NaN</td>\n",
              "    </tr>\n",
              "    <tr>\n",
              "      <th>1</th>\n",
              "      <td>20001218X45447</td>\n",
              "      <td>Accident</td>\n",
              "      <td>LAX94LA336</td>\n",
              "      <td>1962-07-19</td>\n",
              "      <td>BRIDGEPORT, CA</td>\n",
              "      <td>United States</td>\n",
              "      <td>NaN</td>\n",
              "      <td>NaN</td>\n",
              "      <td>NaN</td>\n",
              "      <td>NaN</td>\n",
              "      <td>...</td>\n",
              "      <td>Personal</td>\n",
              "      <td>NaN</td>\n",
              "      <td>4.0</td>\n",
              "      <td>0.0</td>\n",
              "      <td>0.0</td>\n",
              "      <td>0.0</td>\n",
              "      <td>UNK</td>\n",
              "      <td>Unknown</td>\n",
              "      <td>Probable Cause</td>\n",
              "      <td>19-09-1996</td>\n",
              "    </tr>\n",
              "    <tr>\n",
              "      <th>2</th>\n",
              "      <td>20061025X01555</td>\n",
              "      <td>Accident</td>\n",
              "      <td>NYC07LA005</td>\n",
              "      <td>1974-08-30</td>\n",
              "      <td>Saltville, VA</td>\n",
              "      <td>United States</td>\n",
              "      <td>36.922223</td>\n",
              "      <td>-81.878056</td>\n",
              "      <td>NaN</td>\n",
              "      <td>NaN</td>\n",
              "      <td>...</td>\n",
              "      <td>Personal</td>\n",
              "      <td>NaN</td>\n",
              "      <td>3.0</td>\n",
              "      <td>NaN</td>\n",
              "      <td>NaN</td>\n",
              "      <td>NaN</td>\n",
              "      <td>IMC</td>\n",
              "      <td>Cruise</td>\n",
              "      <td>Probable Cause</td>\n",
              "      <td>26-02-2007</td>\n",
              "    </tr>\n",
              "    <tr>\n",
              "      <th>3</th>\n",
              "      <td>20001218X45448</td>\n",
              "      <td>Accident</td>\n",
              "      <td>LAX96LA321</td>\n",
              "      <td>1977-06-19</td>\n",
              "      <td>EUREKA, CA</td>\n",
              "      <td>United States</td>\n",
              "      <td>NaN</td>\n",
              "      <td>NaN</td>\n",
              "      <td>NaN</td>\n",
              "      <td>NaN</td>\n",
              "      <td>...</td>\n",
              "      <td>Personal</td>\n",
              "      <td>NaN</td>\n",
              "      <td>2.0</td>\n",
              "      <td>0.0</td>\n",
              "      <td>0.0</td>\n",
              "      <td>0.0</td>\n",
              "      <td>IMC</td>\n",
              "      <td>Cruise</td>\n",
              "      <td>Probable Cause</td>\n",
              "      <td>12-09-2000</td>\n",
              "    </tr>\n",
              "    <tr>\n",
              "      <th>4</th>\n",
              "      <td>20041105X01764</td>\n",
              "      <td>Accident</td>\n",
              "      <td>CHI79FA064</td>\n",
              "      <td>1979-08-02</td>\n",
              "      <td>Canton, OH</td>\n",
              "      <td>United States</td>\n",
              "      <td>NaN</td>\n",
              "      <td>NaN</td>\n",
              "      <td>NaN</td>\n",
              "      <td>NaN</td>\n",
              "      <td>...</td>\n",
              "      <td>Personal</td>\n",
              "      <td>NaN</td>\n",
              "      <td>1.0</td>\n",
              "      <td>2.0</td>\n",
              "      <td>NaN</td>\n",
              "      <td>0.0</td>\n",
              "      <td>VMC</td>\n",
              "      <td>Approach</td>\n",
              "      <td>Probable Cause</td>\n",
              "      <td>16-04-1980</td>\n",
              "    </tr>\n",
              "  </tbody>\n",
              "</table>\n",
              "<p>5 rows × 31 columns</p>\n",
              "</div>\n",
              "    <div class=\"colab-df-buttons\">\n",
              "\n",
              "  <div class=\"colab-df-container\">\n",
              "    <button class=\"colab-df-convert\" onclick=\"convertToInteractive('df-54d5dfff-ef9a-4adb-adce-f44fa1886cf4')\"\n",
              "            title=\"Convert this dataframe to an interactive table.\"\n",
              "            style=\"display:none;\">\n",
              "\n",
              "  <svg xmlns=\"http://www.w3.org/2000/svg\" height=\"24px\" viewBox=\"0 -960 960 960\">\n",
              "    <path d=\"M120-120v-720h720v720H120Zm60-500h600v-160H180v160Zm220 220h160v-160H400v160Zm0 220h160v-160H400v160ZM180-400h160v-160H180v160Zm440 0h160v-160H620v160ZM180-180h160v-160H180v160Zm440 0h160v-160H620v160Z\"/>\n",
              "  </svg>\n",
              "    </button>\n",
              "\n",
              "  <style>\n",
              "    .colab-df-container {\n",
              "      display:flex;\n",
              "      gap: 12px;\n",
              "    }\n",
              "\n",
              "    .colab-df-convert {\n",
              "      background-color: #E8F0FE;\n",
              "      border: none;\n",
              "      border-radius: 50%;\n",
              "      cursor: pointer;\n",
              "      display: none;\n",
              "      fill: #1967D2;\n",
              "      height: 32px;\n",
              "      padding: 0 0 0 0;\n",
              "      width: 32px;\n",
              "    }\n",
              "\n",
              "    .colab-df-convert:hover {\n",
              "      background-color: #E2EBFA;\n",
              "      box-shadow: 0px 1px 2px rgba(60, 64, 67, 0.3), 0px 1px 3px 1px rgba(60, 64, 67, 0.15);\n",
              "      fill: #174EA6;\n",
              "    }\n",
              "\n",
              "    .colab-df-buttons div {\n",
              "      margin-bottom: 4px;\n",
              "    }\n",
              "\n",
              "    [theme=dark] .colab-df-convert {\n",
              "      background-color: #3B4455;\n",
              "      fill: #D2E3FC;\n",
              "    }\n",
              "\n",
              "    [theme=dark] .colab-df-convert:hover {\n",
              "      background-color: #434B5C;\n",
              "      box-shadow: 0px 1px 3px 1px rgba(0, 0, 0, 0.15);\n",
              "      filter: drop-shadow(0px 1px 2px rgba(0, 0, 0, 0.3));\n",
              "      fill: #FFFFFF;\n",
              "    }\n",
              "  </style>\n",
              "\n",
              "    <script>\n",
              "      const buttonEl =\n",
              "        document.querySelector('#df-54d5dfff-ef9a-4adb-adce-f44fa1886cf4 button.colab-df-convert');\n",
              "      buttonEl.style.display =\n",
              "        google.colab.kernel.accessAllowed ? 'block' : 'none';\n",
              "\n",
              "      async function convertToInteractive(key) {\n",
              "        const element = document.querySelector('#df-54d5dfff-ef9a-4adb-adce-f44fa1886cf4');\n",
              "        const dataTable =\n",
              "          await google.colab.kernel.invokeFunction('convertToInteractive',\n",
              "                                                    [key], {});\n",
              "        if (!dataTable) return;\n",
              "\n",
              "        const docLinkHtml = 'Like what you see? Visit the ' +\n",
              "          '<a target=\"_blank\" href=https://colab.research.google.com/notebooks/data_table.ipynb>data table notebook</a>'\n",
              "          + ' to learn more about interactive tables.';\n",
              "        element.innerHTML = '';\n",
              "        dataTable['output_type'] = 'display_data';\n",
              "        await google.colab.output.renderOutput(dataTable, element);\n",
              "        const docLink = document.createElement('div');\n",
              "        docLink.innerHTML = docLinkHtml;\n",
              "        element.appendChild(docLink);\n",
              "      }\n",
              "    </script>\n",
              "  </div>\n",
              "\n",
              "\n",
              "    <div id=\"df-f41d5852-5c21-4585-bb87-7cc7cb77f73a\">\n",
              "      <button class=\"colab-df-quickchart\" onclick=\"quickchart('df-f41d5852-5c21-4585-bb87-7cc7cb77f73a')\"\n",
              "                title=\"Suggest charts\"\n",
              "                style=\"display:none;\">\n",
              "\n",
              "<svg xmlns=\"http://www.w3.org/2000/svg\" height=\"24px\"viewBox=\"0 0 24 24\"\n",
              "     width=\"24px\">\n",
              "    <g>\n",
              "        <path d=\"M19 3H5c-1.1 0-2 .9-2 2v14c0 1.1.9 2 2 2h14c1.1 0 2-.9 2-2V5c0-1.1-.9-2-2-2zM9 17H7v-7h2v7zm4 0h-2V7h2v10zm4 0h-2v-4h2v4z\"/>\n",
              "    </g>\n",
              "</svg>\n",
              "      </button>\n",
              "\n",
              "<style>\n",
              "  .colab-df-quickchart {\n",
              "      --bg-color: #E8F0FE;\n",
              "      --fill-color: #1967D2;\n",
              "      --hover-bg-color: #E2EBFA;\n",
              "      --hover-fill-color: #174EA6;\n",
              "      --disabled-fill-color: #AAA;\n",
              "      --disabled-bg-color: #DDD;\n",
              "  }\n",
              "\n",
              "  [theme=dark] .colab-df-quickchart {\n",
              "      --bg-color: #3B4455;\n",
              "      --fill-color: #D2E3FC;\n",
              "      --hover-bg-color: #434B5C;\n",
              "      --hover-fill-color: #FFFFFF;\n",
              "      --disabled-bg-color: #3B4455;\n",
              "      --disabled-fill-color: #666;\n",
              "  }\n",
              "\n",
              "  .colab-df-quickchart {\n",
              "    background-color: var(--bg-color);\n",
              "    border: none;\n",
              "    border-radius: 50%;\n",
              "    cursor: pointer;\n",
              "    display: none;\n",
              "    fill: var(--fill-color);\n",
              "    height: 32px;\n",
              "    padding: 0;\n",
              "    width: 32px;\n",
              "  }\n",
              "\n",
              "  .colab-df-quickchart:hover {\n",
              "    background-color: var(--hover-bg-color);\n",
              "    box-shadow: 0 1px 2px rgba(60, 64, 67, 0.3), 0 1px 3px 1px rgba(60, 64, 67, 0.15);\n",
              "    fill: var(--button-hover-fill-color);\n",
              "  }\n",
              "\n",
              "  .colab-df-quickchart-complete:disabled,\n",
              "  .colab-df-quickchart-complete:disabled:hover {\n",
              "    background-color: var(--disabled-bg-color);\n",
              "    fill: var(--disabled-fill-color);\n",
              "    box-shadow: none;\n",
              "  }\n",
              "\n",
              "  .colab-df-spinner {\n",
              "    border: 2px solid var(--fill-color);\n",
              "    border-color: transparent;\n",
              "    border-bottom-color: var(--fill-color);\n",
              "    animation:\n",
              "      spin 1s steps(1) infinite;\n",
              "  }\n",
              "\n",
              "  @keyframes spin {\n",
              "    0% {\n",
              "      border-color: transparent;\n",
              "      border-bottom-color: var(--fill-color);\n",
              "      border-left-color: var(--fill-color);\n",
              "    }\n",
              "    20% {\n",
              "      border-color: transparent;\n",
              "      border-left-color: var(--fill-color);\n",
              "      border-top-color: var(--fill-color);\n",
              "    }\n",
              "    30% {\n",
              "      border-color: transparent;\n",
              "      border-left-color: var(--fill-color);\n",
              "      border-top-color: var(--fill-color);\n",
              "      border-right-color: var(--fill-color);\n",
              "    }\n",
              "    40% {\n",
              "      border-color: transparent;\n",
              "      border-right-color: var(--fill-color);\n",
              "      border-top-color: var(--fill-color);\n",
              "    }\n",
              "    60% {\n",
              "      border-color: transparent;\n",
              "      border-right-color: var(--fill-color);\n",
              "    }\n",
              "    80% {\n",
              "      border-color: transparent;\n",
              "      border-right-color: var(--fill-color);\n",
              "      border-bottom-color: var(--fill-color);\n",
              "    }\n",
              "    90% {\n",
              "      border-color: transparent;\n",
              "      border-bottom-color: var(--fill-color);\n",
              "    }\n",
              "  }\n",
              "</style>\n",
              "\n",
              "      <script>\n",
              "        async function quickchart(key) {\n",
              "          const quickchartButtonEl =\n",
              "            document.querySelector('#' + key + ' button');\n",
              "          quickchartButtonEl.disabled = true;  // To prevent multiple clicks.\n",
              "          quickchartButtonEl.classList.add('colab-df-spinner');\n",
              "          try {\n",
              "            const charts = await google.colab.kernel.invokeFunction(\n",
              "                'suggestCharts', [key], {});\n",
              "          } catch (error) {\n",
              "            console.error('Error during call to suggestCharts:', error);\n",
              "          }\n",
              "          quickchartButtonEl.classList.remove('colab-df-spinner');\n",
              "          quickchartButtonEl.classList.add('colab-df-quickchart-complete');\n",
              "        }\n",
              "        (() => {\n",
              "          let quickchartButtonEl =\n",
              "            document.querySelector('#df-f41d5852-5c21-4585-bb87-7cc7cb77f73a button');\n",
              "          quickchartButtonEl.style.display =\n",
              "            google.colab.kernel.accessAllowed ? 'block' : 'none';\n",
              "        })();\n",
              "      </script>\n",
              "    </div>\n",
              "\n",
              "    </div>\n",
              "  </div>\n"
            ],
            "application/vnd.google.colaboratory.intrinsic+json": {
              "type": "dataframe",
              "variable_name": "Aviation_df"
            }
          },
          "metadata": {},
          "execution_count": 2
        }
      ],
      "source": [
        "#This tells pandas to read the file in one go and figure it out better:\n",
        "\n",
        "Aviation_df=pd.read_csv(\"/content/Aviation_Data.csv\", low_memory=False)\n",
        "\n",
        "\n",
        "\n",
        "Aviation_df.head()\n"
      ]
    },
    {
      "cell_type": "code",
      "execution_count": 3,
      "metadata": {
        "colab": {
          "base_uri": "https://localhost:8080/"
        },
        "id": "xUhxG9eKoAbO",
        "outputId": "4c0b6830-d8e5-4197-b439-9f8e702e9b42"
      },
      "outputs": [
        {
          "output_type": "stream",
          "name": "stdout",
          "text": [
            "<class 'pandas.core.frame.DataFrame'>\n",
            "RangeIndex: 64601 entries, 0 to 64600\n",
            "Data columns (total 31 columns):\n",
            " #   Column                  Non-Null Count  Dtype  \n",
            "---  ------                  --------------  -----  \n",
            " 0   Event.Id                64592 non-null  object \n",
            " 1   Investigation.Type      64601 non-null  object \n",
            " 2   Accident.Number         64592 non-null  object \n",
            " 3   Event.Date              64592 non-null  object \n",
            " 4   Location                64540 non-null  object \n",
            " 5   Country                 64366 non-null  object \n",
            " 6   Latitude                12612 non-null  object \n",
            " 7   Longitude               12602 non-null  object \n",
            " 8   Airport.Code            35254 non-null  object \n",
            " 9   Airport.Name            37685 non-null  object \n",
            " 10  Injury.Severity         64577 non-null  object \n",
            " 11  Aircraft.damage         62919 non-null  object \n",
            " 12  Aircraft.Category       8429 non-null   object \n",
            " 13  Registration.Number     63249 non-null  object \n",
            " 14  Make                    64570 non-null  object \n",
            " 15  Model                   64551 non-null  object \n",
            " 16  Amateur.Built           64490 non-null  object \n",
            " 17  Number.of.Engines       61972 non-null  float64\n",
            " 18  Engine.Type             63057 non-null  object \n",
            " 19  FAR.Description         8437 non-null   object \n",
            " 20  Schedule                10004 non-null  object \n",
            " 21  Purpose.of.flight       62780 non-null  object \n",
            " 22  Air.carrier             3470 non-null   object \n",
            " 23  Total.Fatal.Injuries    53190 non-null  float64\n",
            " 24  Total.Serious.Injuries  52081 non-null  float64\n",
            " 25  Total.Minor.Injuries    52658 non-null  float64\n",
            " 26  Total.Uninjured         58679 non-null  float64\n",
            " 27  Weather.Condition       64039 non-null  object \n",
            " 28  Broad.phase.of.flight   61724 non-null  object \n",
            " 29  Report.Status           64518 non-null  object \n",
            " 30  Publication.Date        51841 non-null  object \n",
            "dtypes: float64(5), object(26)\n",
            "memory usage: 15.3+ MB\n"
          ]
        }
      ],
      "source": [
        "Aviation_df.info()"
      ]
    },
    {
      "cell_type": "markdown",
      "metadata": {
        "id": "lVNcAQxxqFpd"
      },
      "source": [
        "Key Observations:\n",
        "You have 90,348 rows and 31 columns.\n",
        "\n",
        "Many columns like Latitude, Longitude, Aircraft.Category, etc. have a lot of missing values.\n",
        "\n",
        "Most columns are of type object, and 5 are numerical (float64).\n",
        "\n"
      ]
    },
    {
      "cell_type": "code",
      "execution_count": 4,
      "metadata": {
        "colab": {
          "base_uri": "https://localhost:8080/",
          "height": 1000
        },
        "id": "5aKokl__qIB5",
        "outputId": "661f4054-4731-4012-a31b-bde7c1d0267b"
      },
      "outputs": [
        {
          "output_type": "execute_result",
          "data": {
            "text/plain": [
              "Air.carrier               61131\n",
              "Aircraft.Category         56172\n",
              "FAR.Description           56164\n",
              "Schedule                  54597\n",
              "Longitude                 51999\n",
              "Latitude                  51989\n",
              "Airport.Code              29347\n",
              "Airport.Name              26916\n",
              "Publication.Date          12760\n",
              "Total.Serious.Injuries    12520\n",
              "Total.Minor.Injuries      11943\n",
              "Total.Fatal.Injuries      11411\n",
              "Total.Uninjured            5922\n",
              "Broad.phase.of.flight      2877\n",
              "Number.of.Engines          2629\n",
              "Purpose.of.flight          1821\n",
              "Aircraft.damage            1682\n",
              "Engine.Type                1544\n",
              "Registration.Number        1352\n",
              "Weather.Condition           562\n",
              "Country                     235\n",
              "Amateur.Built               111\n",
              "Report.Status                83\n",
              "Location                     61\n",
              "Model                        50\n",
              "Make                         31\n",
              "Injury.Severity              24\n",
              "Event.Date                    9\n",
              "Event.Id                      9\n",
              "Accident.Number               9\n",
              "Investigation.Type            0\n",
              "dtype: int64"
            ],
            "text/html": [
              "<div>\n",
              "<style scoped>\n",
              "    .dataframe tbody tr th:only-of-type {\n",
              "        vertical-align: middle;\n",
              "    }\n",
              "\n",
              "    .dataframe tbody tr th {\n",
              "        vertical-align: top;\n",
              "    }\n",
              "\n",
              "    .dataframe thead th {\n",
              "        text-align: right;\n",
              "    }\n",
              "</style>\n",
              "<table border=\"1\" class=\"dataframe\">\n",
              "  <thead>\n",
              "    <tr style=\"text-align: right;\">\n",
              "      <th></th>\n",
              "      <th>0</th>\n",
              "    </tr>\n",
              "  </thead>\n",
              "  <tbody>\n",
              "    <tr>\n",
              "      <th>Air.carrier</th>\n",
              "      <td>61131</td>\n",
              "    </tr>\n",
              "    <tr>\n",
              "      <th>Aircraft.Category</th>\n",
              "      <td>56172</td>\n",
              "    </tr>\n",
              "    <tr>\n",
              "      <th>FAR.Description</th>\n",
              "      <td>56164</td>\n",
              "    </tr>\n",
              "    <tr>\n",
              "      <th>Schedule</th>\n",
              "      <td>54597</td>\n",
              "    </tr>\n",
              "    <tr>\n",
              "      <th>Longitude</th>\n",
              "      <td>51999</td>\n",
              "    </tr>\n",
              "    <tr>\n",
              "      <th>Latitude</th>\n",
              "      <td>51989</td>\n",
              "    </tr>\n",
              "    <tr>\n",
              "      <th>Airport.Code</th>\n",
              "      <td>29347</td>\n",
              "    </tr>\n",
              "    <tr>\n",
              "      <th>Airport.Name</th>\n",
              "      <td>26916</td>\n",
              "    </tr>\n",
              "    <tr>\n",
              "      <th>Publication.Date</th>\n",
              "      <td>12760</td>\n",
              "    </tr>\n",
              "    <tr>\n",
              "      <th>Total.Serious.Injuries</th>\n",
              "      <td>12520</td>\n",
              "    </tr>\n",
              "    <tr>\n",
              "      <th>Total.Minor.Injuries</th>\n",
              "      <td>11943</td>\n",
              "    </tr>\n",
              "    <tr>\n",
              "      <th>Total.Fatal.Injuries</th>\n",
              "      <td>11411</td>\n",
              "    </tr>\n",
              "    <tr>\n",
              "      <th>Total.Uninjured</th>\n",
              "      <td>5922</td>\n",
              "    </tr>\n",
              "    <tr>\n",
              "      <th>Broad.phase.of.flight</th>\n",
              "      <td>2877</td>\n",
              "    </tr>\n",
              "    <tr>\n",
              "      <th>Number.of.Engines</th>\n",
              "      <td>2629</td>\n",
              "    </tr>\n",
              "    <tr>\n",
              "      <th>Purpose.of.flight</th>\n",
              "      <td>1821</td>\n",
              "    </tr>\n",
              "    <tr>\n",
              "      <th>Aircraft.damage</th>\n",
              "      <td>1682</td>\n",
              "    </tr>\n",
              "    <tr>\n",
              "      <th>Engine.Type</th>\n",
              "      <td>1544</td>\n",
              "    </tr>\n",
              "    <tr>\n",
              "      <th>Registration.Number</th>\n",
              "      <td>1352</td>\n",
              "    </tr>\n",
              "    <tr>\n",
              "      <th>Weather.Condition</th>\n",
              "      <td>562</td>\n",
              "    </tr>\n",
              "    <tr>\n",
              "      <th>Country</th>\n",
              "      <td>235</td>\n",
              "    </tr>\n",
              "    <tr>\n",
              "      <th>Amateur.Built</th>\n",
              "      <td>111</td>\n",
              "    </tr>\n",
              "    <tr>\n",
              "      <th>Report.Status</th>\n",
              "      <td>83</td>\n",
              "    </tr>\n",
              "    <tr>\n",
              "      <th>Location</th>\n",
              "      <td>61</td>\n",
              "    </tr>\n",
              "    <tr>\n",
              "      <th>Model</th>\n",
              "      <td>50</td>\n",
              "    </tr>\n",
              "    <tr>\n",
              "      <th>Make</th>\n",
              "      <td>31</td>\n",
              "    </tr>\n",
              "    <tr>\n",
              "      <th>Injury.Severity</th>\n",
              "      <td>24</td>\n",
              "    </tr>\n",
              "    <tr>\n",
              "      <th>Event.Date</th>\n",
              "      <td>9</td>\n",
              "    </tr>\n",
              "    <tr>\n",
              "      <th>Event.Id</th>\n",
              "      <td>9</td>\n",
              "    </tr>\n",
              "    <tr>\n",
              "      <th>Accident.Number</th>\n",
              "      <td>9</td>\n",
              "    </tr>\n",
              "    <tr>\n",
              "      <th>Investigation.Type</th>\n",
              "      <td>0</td>\n",
              "    </tr>\n",
              "  </tbody>\n",
              "</table>\n",
              "</div><br><label><b>dtype:</b> int64</label>"
            ]
          },
          "metadata": {},
          "execution_count": 4
        }
      ],
      "source": [
        "#checking Missing Data in Detail\n",
        "Aviation_df.isnull().sum().sort_values(ascending=False)\n",
        "\n"
      ]
    },
    {
      "cell_type": "markdown",
      "metadata": {
        "id": "wqBZcR54rWZs"
      },
      "source": [
        "Droping  Columns With Too Much Missing Data\n",
        "We’ll drop columns with more than 60% missing, since they are likely not usable:"
      ]
    },
    {
      "cell_type": "code",
      "execution_count": 5,
      "metadata": {
        "id": "-wjk0gIrrXE2"
      },
      "outputs": [],
      "source": [
        "Aviation_df.drop(['Schedule', 'Air.carrier', 'FAR.Description', 'Aircraft.Category', 'Latitude', 'Longitude'], axis=1, inplace=True)\n"
      ]
    },
    {
      "cell_type": "markdown",
      "metadata": {
        "id": "vobGivx-rvPU"
      },
      "source": [
        "Confirm Remaining Columns\n",
        "Check again which columns still have missing data (but less severe):"
      ]
    },
    {
      "cell_type": "code",
      "execution_count": 6,
      "metadata": {
        "colab": {
          "base_uri": "https://localhost:8080/",
          "height": 867
        },
        "id": "aLBkUFm9rxOe",
        "outputId": "2809e4af-9d3e-44d0-b9df-bd07e4c54ec9"
      },
      "outputs": [
        {
          "output_type": "execute_result",
          "data": {
            "text/plain": [
              "Airport.Code              29347\n",
              "Airport.Name              26916\n",
              "Publication.Date          12760\n",
              "Total.Serious.Injuries    12520\n",
              "Total.Minor.Injuries      11943\n",
              "Total.Fatal.Injuries      11411\n",
              "Total.Uninjured            5922\n",
              "Broad.phase.of.flight      2877\n",
              "Number.of.Engines          2629\n",
              "Purpose.of.flight          1821\n",
              "Aircraft.damage            1682\n",
              "Engine.Type                1544\n",
              "Registration.Number        1352\n",
              "Weather.Condition           562\n",
              "Country                     235\n",
              "Amateur.Built               111\n",
              "Report.Status                83\n",
              "Location                     61\n",
              "Model                        50\n",
              "Make                         31\n",
              "Injury.Severity              24\n",
              "Accident.Number               9\n",
              "Event.Date                    9\n",
              "Event.Id                      9\n",
              "Investigation.Type            0\n",
              "dtype: int64"
            ],
            "text/html": [
              "<div>\n",
              "<style scoped>\n",
              "    .dataframe tbody tr th:only-of-type {\n",
              "        vertical-align: middle;\n",
              "    }\n",
              "\n",
              "    .dataframe tbody tr th {\n",
              "        vertical-align: top;\n",
              "    }\n",
              "\n",
              "    .dataframe thead th {\n",
              "        text-align: right;\n",
              "    }\n",
              "</style>\n",
              "<table border=\"1\" class=\"dataframe\">\n",
              "  <thead>\n",
              "    <tr style=\"text-align: right;\">\n",
              "      <th></th>\n",
              "      <th>0</th>\n",
              "    </tr>\n",
              "  </thead>\n",
              "  <tbody>\n",
              "    <tr>\n",
              "      <th>Airport.Code</th>\n",
              "      <td>29347</td>\n",
              "    </tr>\n",
              "    <tr>\n",
              "      <th>Airport.Name</th>\n",
              "      <td>26916</td>\n",
              "    </tr>\n",
              "    <tr>\n",
              "      <th>Publication.Date</th>\n",
              "      <td>12760</td>\n",
              "    </tr>\n",
              "    <tr>\n",
              "      <th>Total.Serious.Injuries</th>\n",
              "      <td>12520</td>\n",
              "    </tr>\n",
              "    <tr>\n",
              "      <th>Total.Minor.Injuries</th>\n",
              "      <td>11943</td>\n",
              "    </tr>\n",
              "    <tr>\n",
              "      <th>Total.Fatal.Injuries</th>\n",
              "      <td>11411</td>\n",
              "    </tr>\n",
              "    <tr>\n",
              "      <th>Total.Uninjured</th>\n",
              "      <td>5922</td>\n",
              "    </tr>\n",
              "    <tr>\n",
              "      <th>Broad.phase.of.flight</th>\n",
              "      <td>2877</td>\n",
              "    </tr>\n",
              "    <tr>\n",
              "      <th>Number.of.Engines</th>\n",
              "      <td>2629</td>\n",
              "    </tr>\n",
              "    <tr>\n",
              "      <th>Purpose.of.flight</th>\n",
              "      <td>1821</td>\n",
              "    </tr>\n",
              "    <tr>\n",
              "      <th>Aircraft.damage</th>\n",
              "      <td>1682</td>\n",
              "    </tr>\n",
              "    <tr>\n",
              "      <th>Engine.Type</th>\n",
              "      <td>1544</td>\n",
              "    </tr>\n",
              "    <tr>\n",
              "      <th>Registration.Number</th>\n",
              "      <td>1352</td>\n",
              "    </tr>\n",
              "    <tr>\n",
              "      <th>Weather.Condition</th>\n",
              "      <td>562</td>\n",
              "    </tr>\n",
              "    <tr>\n",
              "      <th>Country</th>\n",
              "      <td>235</td>\n",
              "    </tr>\n",
              "    <tr>\n",
              "      <th>Amateur.Built</th>\n",
              "      <td>111</td>\n",
              "    </tr>\n",
              "    <tr>\n",
              "      <th>Report.Status</th>\n",
              "      <td>83</td>\n",
              "    </tr>\n",
              "    <tr>\n",
              "      <th>Location</th>\n",
              "      <td>61</td>\n",
              "    </tr>\n",
              "    <tr>\n",
              "      <th>Model</th>\n",
              "      <td>50</td>\n",
              "    </tr>\n",
              "    <tr>\n",
              "      <th>Make</th>\n",
              "      <td>31</td>\n",
              "    </tr>\n",
              "    <tr>\n",
              "      <th>Injury.Severity</th>\n",
              "      <td>24</td>\n",
              "    </tr>\n",
              "    <tr>\n",
              "      <th>Accident.Number</th>\n",
              "      <td>9</td>\n",
              "    </tr>\n",
              "    <tr>\n",
              "      <th>Event.Date</th>\n",
              "      <td>9</td>\n",
              "    </tr>\n",
              "    <tr>\n",
              "      <th>Event.Id</th>\n",
              "      <td>9</td>\n",
              "    </tr>\n",
              "    <tr>\n",
              "      <th>Investigation.Type</th>\n",
              "      <td>0</td>\n",
              "    </tr>\n",
              "  </tbody>\n",
              "</table>\n",
              "</div><br><label><b>dtype:</b> int64</label>"
            ]
          },
          "metadata": {},
          "execution_count": 6
        }
      ],
      "source": [
        "Aviation_df.isnull().sum().sort_values(ascending=False)\n"
      ]
    },
    {
      "cell_type": "markdown",
      "metadata": {
        "id": "DsF1zcYaslz7"
      },
      "source": [
        "I  still have moderate missing data in several columns, especially:\n",
        "\n",
        "Airport.Code, Airport.Name (missing  around 40k)\n",
        "\n",
        "Injury data (Total.Serious.Injuries, Fatal, Minor)\n",
        "\n",
        "Engine.Type, Purpose.of.flight, etc."
      ]
    },
    {
      "cell_type": "code",
      "execution_count": 7,
      "metadata": {
        "id": "4frqNmKdunhu"
      },
      "outputs": [],
      "source": [
        "Aviation_df.drop(['Airport.Code', 'Airport.Name'], axis=1, inplace=True)\n"
      ]
    },
    {
      "cell_type": "markdown",
      "metadata": {
        "id": "4GWi3a8AuHrh"
      },
      "source": [
        "Am droppping Airport code and Airport name coz are of less importance in my analysis And fill Injury Columns ; fill missing with 0.0 since no data might mean no injuries:"
      ]
    },
    {
      "cell_type": "code",
      "execution_count": 8,
      "metadata": {
        "id": "29YvDnvIuj9r"
      },
      "outputs": [],
      "source": [
        "\n",
        "#is risky because it might be working on a copy of the data, not the real DataFrame.\n",
        "#So in the future, it won’t work the way you expect.\n",
        "Aviation_df['Total.Fatal.Injuries'] = Aviation_df['Total.Fatal.Injuries'].fillna(0.0)\n",
        "Aviation_df['Total.Serious.Injuries'] = Aviation_df['Total.Serious.Injuries'].fillna(0.0)\n",
        "Aviation_df['Total.Minor.Injuries'] = Aviation_df['Total.Minor.Injuries'].fillna(0.0)\n",
        "Aviation_df['Total.Uninjured'] = Aviation_df['Total.Uninjured'].fillna(0.0)\n"
      ]
    },
    {
      "cell_type": "markdown",
      "metadata": {
        "id": "xcGHZ8atvS3X"
      },
      "source": [
        "Categorical Columns – fill with \"Unknown\":"
      ]
    },
    {
      "cell_type": "code",
      "execution_count": 9,
      "metadata": {
        "id": "IHHhTqFqvT2z"
      },
      "outputs": [],
      "source": [
        "Aviation_df['Engine.Type'] = Aviation_df['Engine.Type'].fillna(\"Unknown\")\n",
        "Aviation_df['Purpose.of.flight'] = Aviation_df['Purpose.of.flight'].fillna(\"Unknown\")\n",
        "Aviation_df['Weather.Condition'] = Aviation_df['Weather.Condition'].fillna(\"Unknown\")\n",
        "Aviation_df['Aircraft.damage'] = Aviation_df['Aircraft.damage'].fillna(\"Unknown\")\n",
        "Aviation_df['Registration.Number'] = Aviation_df['Registration.Number'].fillna(\"Unknown\")\n",
        "Aviation_df['Injury.Severity'] = Aviation_df['Injury.Severity'].fillna(\"Unknown\")\n",
        "Aviation_df['Country'] = Aviation_df['Country'].fillna(\"Unknown\")\n",
        "Aviation_df['Amateur.Built'] = Aviation_df['Amateur.Built'].fillna(\"Unknown\")\n",
        "Aviation_df['Model'] = Aviation_df['Model'].fillna(\"Unknown\")\n",
        "Aviation_df['Make'] = Aviation_df['Make'].fillna(\"Unknown\")\n",
        "Aviation_df['Location'] = Aviation_df['Location'].fillna(\"Unknown\")\n",
        "Aviation_df['Report.Status'] = Aviation_df['Report.Status'].fillna(\"Unknown\")\n",
        "Aviation_df['Broad.phase.of.flight'] = Aviation_df['Broad.phase.of.flight'].fillna(\"Unknown\")\n"
      ]
    },
    {
      "cell_type": "markdown",
      "metadata": {
        "id": "qKzU1txNeXqw"
      },
      "source": [
        "Printed the first ten dates to see how it looks"
      ]
    },
    {
      "cell_type": "code",
      "execution_count": 10,
      "metadata": {
        "colab": {
          "base_uri": "https://localhost:8080/"
        },
        "id": "VpEhhiPjc4Q0",
        "outputId": "17ab0eab-a7be-4f0c-e689-d556301ad379"
      },
      "outputs": [
        {
          "output_type": "stream",
          "name": "stdout",
          "text": [
            "0    1948-10-24\n",
            "1    1962-07-19\n",
            "2    1974-08-30\n",
            "3    1977-06-19\n",
            "4    1979-08-02\n",
            "5    1979-09-17\n",
            "6    1981-08-01\n",
            "7    1982-01-01\n",
            "8    1982-01-01\n",
            "9    1982-01-01\n",
            "Name: Event.Date, dtype: object\n"
          ]
        }
      ],
      "source": [
        "print(Aviation_df['Event.Date'].head(10))\n"
      ]
    },
    {
      "cell_type": "markdown",
      "metadata": {
        "id": "NDsFGvTFekbd"
      },
      "source": [
        "Wanted to confirm the data type ,if its in the reall format of dates"
      ]
    },
    {
      "cell_type": "code",
      "execution_count": 11,
      "metadata": {
        "colab": {
          "base_uri": "https://localhost:8080/"
        },
        "id": "BOp-Se9CdcM5",
        "outputId": "fa11eee7-2d96-4cf1-cfb3-501472d36da7"
      },
      "outputs": [
        {
          "output_type": "stream",
          "name": "stdout",
          "text": [
            "object\n"
          ]
        }
      ],
      "source": [
        "print(Aviation_df['Event.Date'].dtype)\n"
      ]
    },
    {
      "cell_type": "markdown",
      "metadata": {
        "id": "oZcXQdF5eu67"
      },
      "source": [
        "Saw some had unfilled date represented with NaN"
      ]
    },
    {
      "cell_type": "code",
      "execution_count": 12,
      "metadata": {
        "colab": {
          "base_uri": "https://localhost:8080/"
        },
        "id": "VF_WHI15drB-",
        "outputId": "9c95fb58-9cd4-4351-9e9b-7d183c96b255"
      },
      "outputs": [
        {
          "output_type": "stream",
          "name": "stdout",
          "text": [
            "53515    2002-09-16\n",
            "19289    1987-12-06\n",
            "17307    1987-04-20\n",
            "58089    2005-01-19\n",
            "3423     1982-12-06\n",
            "64396    2008-04-22\n",
            "5781     1983-08-07\n",
            "1621     1982-06-19\n",
            "26427    1990-08-24\n",
            "35914    1994-08-28\n",
            "Name: Event.Date, dtype: object\n"
          ]
        }
      ],
      "source": [
        "print(Aviation_df['Event.Date'].sample(10))  # Random sample of 10 values\n"
      ]
    },
    {
      "cell_type": "markdown",
      "metadata": {
        "id": "C4NZ8R0He305"
      },
      "source": [
        "Replaced the missing values with 2000-01-01"
      ]
    },
    {
      "cell_type": "code",
      "execution_count": 13,
      "metadata": {
        "id": "Upksp6ldeBH9"
      },
      "outputs": [],
      "source": [
        "# Step 1: Convert to datetime, forcing invalid ones to NaT\n",
        "Aviation_df['Event.Date'] = pd.to_datetime(Aviation_df['Event.Date'], errors='coerce')\n",
        "\n",
        "# Step 2: Replace only the NaT values with placeholder\n",
        "Aviation_df['Event.Date'] = Aviation_df['Event.Date'].fillna(pd.Timestamp('2000-01-01'))\n"
      ]
    },
    {
      "cell_type": "markdown",
      "metadata": {
        "id": "WJ9h4OD2e-P8"
      },
      "source": [
        "Confirmed how many were replaced"
      ]
    },
    {
      "cell_type": "code",
      "execution_count": 14,
      "metadata": {
        "colab": {
          "base_uri": "https://localhost:8080/"
        },
        "id": "l-jSM56SeCvb",
        "outputId": "7b69cff5-dbfb-4a84-e541-bdd4df123c03"
      },
      "outputs": [
        {
          "output_type": "stream",
          "name": "stdout",
          "text": [
            "Replaced missing dates: 11\n"
          ]
        }
      ],
      "source": [
        "print(\"Replaced missing dates:\", (Aviation_df['Event.Date'] == '2000-01-01').sum())\n"
      ]
    },
    {
      "cell_type": "markdown",
      "metadata": {
        "id": "IaGL7NnLwoJp"
      },
      "source": [
        "Convert Event.Date and Fill:"
      ]
    },
    {
      "cell_type": "markdown",
      "metadata": {
        "id": "ap19Byo-xlOg"
      },
      "source": [
        "Final check of the data after cleaning"
      ]
    },
    {
      "cell_type": "code",
      "execution_count": 15,
      "metadata": {
        "colab": {
          "base_uri": "https://localhost:8080/",
          "height": 805
        },
        "id": "jpmiq6E5xoi5",
        "outputId": "c2aedc56-bcbe-4eb8-baf2-8fb42835867a"
      },
      "outputs": [
        {
          "output_type": "execute_result",
          "data": {
            "text/plain": [
              "Publication.Date          12760\n",
              "Number.of.Engines          2629\n",
              "Event.Id                      9\n",
              "Accident.Number               9\n",
              "Location                      0\n",
              "Event.Date                    0\n",
              "Investigation.Type            0\n",
              "Injury.Severity               0\n",
              "Country                       0\n",
              "Make                          0\n",
              "Aircraft.damage               0\n",
              "Model                         0\n",
              "Amateur.Built                 0\n",
              "Engine.Type                   0\n",
              "Registration.Number           0\n",
              "Purpose.of.flight             0\n",
              "Total.Fatal.Injuries          0\n",
              "Total.Minor.Injuries          0\n",
              "Total.Serious.Injuries        0\n",
              "Total.Uninjured               0\n",
              "Weather.Condition             0\n",
              "Broad.phase.of.flight         0\n",
              "Report.Status                 0\n",
              "dtype: int64"
            ],
            "text/html": [
              "<div>\n",
              "<style scoped>\n",
              "    .dataframe tbody tr th:only-of-type {\n",
              "        vertical-align: middle;\n",
              "    }\n",
              "\n",
              "    .dataframe tbody tr th {\n",
              "        vertical-align: top;\n",
              "    }\n",
              "\n",
              "    .dataframe thead th {\n",
              "        text-align: right;\n",
              "    }\n",
              "</style>\n",
              "<table border=\"1\" class=\"dataframe\">\n",
              "  <thead>\n",
              "    <tr style=\"text-align: right;\">\n",
              "      <th></th>\n",
              "      <th>0</th>\n",
              "    </tr>\n",
              "  </thead>\n",
              "  <tbody>\n",
              "    <tr>\n",
              "      <th>Publication.Date</th>\n",
              "      <td>12760</td>\n",
              "    </tr>\n",
              "    <tr>\n",
              "      <th>Number.of.Engines</th>\n",
              "      <td>2629</td>\n",
              "    </tr>\n",
              "    <tr>\n",
              "      <th>Event.Id</th>\n",
              "      <td>9</td>\n",
              "    </tr>\n",
              "    <tr>\n",
              "      <th>Accident.Number</th>\n",
              "      <td>9</td>\n",
              "    </tr>\n",
              "    <tr>\n",
              "      <th>Location</th>\n",
              "      <td>0</td>\n",
              "    </tr>\n",
              "    <tr>\n",
              "      <th>Event.Date</th>\n",
              "      <td>0</td>\n",
              "    </tr>\n",
              "    <tr>\n",
              "      <th>Investigation.Type</th>\n",
              "      <td>0</td>\n",
              "    </tr>\n",
              "    <tr>\n",
              "      <th>Injury.Severity</th>\n",
              "      <td>0</td>\n",
              "    </tr>\n",
              "    <tr>\n",
              "      <th>Country</th>\n",
              "      <td>0</td>\n",
              "    </tr>\n",
              "    <tr>\n",
              "      <th>Make</th>\n",
              "      <td>0</td>\n",
              "    </tr>\n",
              "    <tr>\n",
              "      <th>Aircraft.damage</th>\n",
              "      <td>0</td>\n",
              "    </tr>\n",
              "    <tr>\n",
              "      <th>Model</th>\n",
              "      <td>0</td>\n",
              "    </tr>\n",
              "    <tr>\n",
              "      <th>Amateur.Built</th>\n",
              "      <td>0</td>\n",
              "    </tr>\n",
              "    <tr>\n",
              "      <th>Engine.Type</th>\n",
              "      <td>0</td>\n",
              "    </tr>\n",
              "    <tr>\n",
              "      <th>Registration.Number</th>\n",
              "      <td>0</td>\n",
              "    </tr>\n",
              "    <tr>\n",
              "      <th>Purpose.of.flight</th>\n",
              "      <td>0</td>\n",
              "    </tr>\n",
              "    <tr>\n",
              "      <th>Total.Fatal.Injuries</th>\n",
              "      <td>0</td>\n",
              "    </tr>\n",
              "    <tr>\n",
              "      <th>Total.Minor.Injuries</th>\n",
              "      <td>0</td>\n",
              "    </tr>\n",
              "    <tr>\n",
              "      <th>Total.Serious.Injuries</th>\n",
              "      <td>0</td>\n",
              "    </tr>\n",
              "    <tr>\n",
              "      <th>Total.Uninjured</th>\n",
              "      <td>0</td>\n",
              "    </tr>\n",
              "    <tr>\n",
              "      <th>Weather.Condition</th>\n",
              "      <td>0</td>\n",
              "    </tr>\n",
              "    <tr>\n",
              "      <th>Broad.phase.of.flight</th>\n",
              "      <td>0</td>\n",
              "    </tr>\n",
              "    <tr>\n",
              "      <th>Report.Status</th>\n",
              "      <td>0</td>\n",
              "    </tr>\n",
              "  </tbody>\n",
              "</table>\n",
              "</div><br><label><b>dtype:</b> int64</label>"
            ]
          },
          "metadata": {},
          "execution_count": 15
        }
      ],
      "source": [
        "Aviation_df.isnull().sum().sort_values(ascending=False)\n"
      ]
    },
    {
      "cell_type": "markdown",
      "metadata": {
        "id": "MCpnfaI3yZRP"
      },
      "source": [
        "Want to drop Publication (date mainly used in reporting not safety ) and Unique identifiers (mainly for traceability but not analysis) and fill the number of enginees coz safety   sometimes depend on it"
      ]
    },
    {
      "cell_type": "code",
      "execution_count": 16,
      "metadata": {
        "id": "1Yds8HpTzFpM"
      },
      "outputs": [],
      "source": [
        "# Drop unnecessary columns\n",
        "Aviation_df.drop(['Publication.Date', 'Event.Id', 'Accident.Number'], axis=1, inplace=True)\n",
        "\n",
        "# Fill missing engine counts with 0 (or 'Unknown' if you want to treat them differently)\n",
        "Aviation_df['Number.of.Engines'] = Aviation_df['Number.of.Engines'].fillna(0)\n"
      ]
    },
    {
      "cell_type": "markdown",
      "metadata": {
        "id": "PzWdWWXKzcIE"
      },
      "source": [
        "The final check of of my data"
      ]
    },
    {
      "cell_type": "code",
      "execution_count": 17,
      "metadata": {
        "colab": {
          "base_uri": "https://localhost:8080/",
          "height": 711
        },
        "id": "s-LF-Imuzhu9",
        "outputId": "4d1f362b-61ff-4c33-fd78-55fa958b880c"
      },
      "outputs": [
        {
          "output_type": "execute_result",
          "data": {
            "text/plain": [
              "Investigation.Type        0\n",
              "Event.Date                0\n",
              "Location                  0\n",
              "Country                   0\n",
              "Injury.Severity           0\n",
              "Aircraft.damage           0\n",
              "Registration.Number       0\n",
              "Make                      0\n",
              "Model                     0\n",
              "Amateur.Built             0\n",
              "Number.of.Engines         0\n",
              "Engine.Type               0\n",
              "Purpose.of.flight         0\n",
              "Total.Fatal.Injuries      0\n",
              "Total.Serious.Injuries    0\n",
              "Total.Minor.Injuries      0\n",
              "Total.Uninjured           0\n",
              "Weather.Condition         0\n",
              "Broad.phase.of.flight     0\n",
              "Report.Status             0\n",
              "dtype: int64"
            ],
            "text/html": [
              "<div>\n",
              "<style scoped>\n",
              "    .dataframe tbody tr th:only-of-type {\n",
              "        vertical-align: middle;\n",
              "    }\n",
              "\n",
              "    .dataframe tbody tr th {\n",
              "        vertical-align: top;\n",
              "    }\n",
              "\n",
              "    .dataframe thead th {\n",
              "        text-align: right;\n",
              "    }\n",
              "</style>\n",
              "<table border=\"1\" class=\"dataframe\">\n",
              "  <thead>\n",
              "    <tr style=\"text-align: right;\">\n",
              "      <th></th>\n",
              "      <th>0</th>\n",
              "    </tr>\n",
              "  </thead>\n",
              "  <tbody>\n",
              "    <tr>\n",
              "      <th>Investigation.Type</th>\n",
              "      <td>0</td>\n",
              "    </tr>\n",
              "    <tr>\n",
              "      <th>Event.Date</th>\n",
              "      <td>0</td>\n",
              "    </tr>\n",
              "    <tr>\n",
              "      <th>Location</th>\n",
              "      <td>0</td>\n",
              "    </tr>\n",
              "    <tr>\n",
              "      <th>Country</th>\n",
              "      <td>0</td>\n",
              "    </tr>\n",
              "    <tr>\n",
              "      <th>Injury.Severity</th>\n",
              "      <td>0</td>\n",
              "    </tr>\n",
              "    <tr>\n",
              "      <th>Aircraft.damage</th>\n",
              "      <td>0</td>\n",
              "    </tr>\n",
              "    <tr>\n",
              "      <th>Registration.Number</th>\n",
              "      <td>0</td>\n",
              "    </tr>\n",
              "    <tr>\n",
              "      <th>Make</th>\n",
              "      <td>0</td>\n",
              "    </tr>\n",
              "    <tr>\n",
              "      <th>Model</th>\n",
              "      <td>0</td>\n",
              "    </tr>\n",
              "    <tr>\n",
              "      <th>Amateur.Built</th>\n",
              "      <td>0</td>\n",
              "    </tr>\n",
              "    <tr>\n",
              "      <th>Number.of.Engines</th>\n",
              "      <td>0</td>\n",
              "    </tr>\n",
              "    <tr>\n",
              "      <th>Engine.Type</th>\n",
              "      <td>0</td>\n",
              "    </tr>\n",
              "    <tr>\n",
              "      <th>Purpose.of.flight</th>\n",
              "      <td>0</td>\n",
              "    </tr>\n",
              "    <tr>\n",
              "      <th>Total.Fatal.Injuries</th>\n",
              "      <td>0</td>\n",
              "    </tr>\n",
              "    <tr>\n",
              "      <th>Total.Serious.Injuries</th>\n",
              "      <td>0</td>\n",
              "    </tr>\n",
              "    <tr>\n",
              "      <th>Total.Minor.Injuries</th>\n",
              "      <td>0</td>\n",
              "    </tr>\n",
              "    <tr>\n",
              "      <th>Total.Uninjured</th>\n",
              "      <td>0</td>\n",
              "    </tr>\n",
              "    <tr>\n",
              "      <th>Weather.Condition</th>\n",
              "      <td>0</td>\n",
              "    </tr>\n",
              "    <tr>\n",
              "      <th>Broad.phase.of.flight</th>\n",
              "      <td>0</td>\n",
              "    </tr>\n",
              "    <tr>\n",
              "      <th>Report.Status</th>\n",
              "      <td>0</td>\n",
              "    </tr>\n",
              "  </tbody>\n",
              "</table>\n",
              "</div><br><label><b>dtype:</b> int64</label>"
            ]
          },
          "metadata": {},
          "execution_count": 17
        }
      ],
      "source": [
        "Aviation_df.isnull().sum().sort_values(ascending=False)\n"
      ]
    },
    {
      "cell_type": "markdown",
      "metadata": {
        "id": "mN7N1W4Lzl4S"
      },
      "source": [
        "Perfect now am good to go"
      ]
    },
    {
      "cell_type": "code",
      "execution_count": 18,
      "metadata": {
        "colab": {
          "base_uri": "https://localhost:8080/"
        },
        "id": "ovRHioSwzopr",
        "outputId": "09814f66-9ced-4000-d2a0-cadd60c8b944"
      },
      "outputs": [
        {
          "output_type": "stream",
          "name": "stdout",
          "text": [
            "<class 'pandas.core.frame.DataFrame'>\n",
            "RangeIndex: 64601 entries, 0 to 64600\n",
            "Data columns (total 20 columns):\n",
            " #   Column                  Non-Null Count  Dtype         \n",
            "---  ------                  --------------  -----         \n",
            " 0   Investigation.Type      64601 non-null  object        \n",
            " 1   Event.Date              64601 non-null  datetime64[ns]\n",
            " 2   Location                64601 non-null  object        \n",
            " 3   Country                 64601 non-null  object        \n",
            " 4   Injury.Severity         64601 non-null  object        \n",
            " 5   Aircraft.damage         64601 non-null  object        \n",
            " 6   Registration.Number     64601 non-null  object        \n",
            " 7   Make                    64601 non-null  object        \n",
            " 8   Model                   64601 non-null  object        \n",
            " 9   Amateur.Built           64601 non-null  object        \n",
            " 10  Number.of.Engines       64601 non-null  float64       \n",
            " 11  Engine.Type             64601 non-null  object        \n",
            " 12  Purpose.of.flight       64601 non-null  object        \n",
            " 13  Total.Fatal.Injuries    64601 non-null  float64       \n",
            " 14  Total.Serious.Injuries  64601 non-null  float64       \n",
            " 15  Total.Minor.Injuries    64601 non-null  float64       \n",
            " 16  Total.Uninjured         64601 non-null  float64       \n",
            " 17  Weather.Condition       64601 non-null  object        \n",
            " 18  Broad.phase.of.flight   64601 non-null  object        \n",
            " 19  Report.Status           64601 non-null  object        \n",
            "dtypes: datetime64[ns](1), float64(5), object(14)\n",
            "memory usage: 9.9+ MB\n"
          ]
        }
      ],
      "source": [
        "Aviation_df.info()"
      ]
    },
    {
      "cell_type": "markdown",
      "metadata": {
        "id": "S7N_ghay7ijR"
      },
      "source": [
        "saving the cleaned data"
      ]
    },
    {
      "cell_type": "code",
      "execution_count": 19,
      "metadata": {
        "colab": {
          "base_uri": "https://localhost:8080/"
        },
        "id": "-B5LUAaZM8Jh",
        "outputId": "4a905fd2-583d-4155-c894-e2545cdc6222"
      },
      "outputs": [
        {
          "output_type": "stream",
          "name": "stdout",
          "text": [
            "Purpose.of.flight\n",
            "Personal                     36318\n",
            "Unknown                       8302\n",
            "Instructional                 7863\n",
            "Aerial Application            3685\n",
            "Business                      3487\n",
            "Positioning                   1228\n",
            "Other Work Use                 939\n",
            "Ferry                          703\n",
            "Public Aircraft                681\n",
            "Aerial Observation             505\n",
            "Executive/corporate            461\n",
            "Flight Test                    160\n",
            "Skydiving                       77\n",
            "Air Race/show                   59\n",
            "Public Aircraft - Federal       29\n",
            "Banner Tow                      27\n",
            "External Load                   22\n",
            "Public Aircraft - State         16\n",
            "Public Aircraft - Local         12\n",
            "Glider Tow                      12\n",
            "Firefighting                     7\n",
            "Air Drop                         4\n",
            "Air Race show                    4\n",
            "Name: count, dtype: int64\n"
          ]
        }
      ],
      "source": [
        "# Step 3: Get unique values and their counts\n",
        "purpose_counts = Aviation_df['Purpose.of.flight'].value_counts()\n",
        "print(purpose_counts)"
      ]
    },
    {
      "cell_type": "code",
      "execution_count": 20,
      "metadata": {
        "colab": {
          "base_uri": "https://localhost:8080/"
        },
        "id": "szxc9s0sQ8Ob",
        "outputId": "ad4fb3df-866f-4f91-c36d-e807ea50a64a"
      },
      "outputs": [
        {
          "output_type": "stream",
          "name": "stdout",
          "text": [
            "Engine.Type\n",
            "Reciprocating    53831\n",
            "Unknown           3568\n",
            "Turbo Shaft       2615\n",
            "Turbo Prop        2310\n",
            "Turbo Fan         1690\n",
            "Turbo Jet          586\n",
            "Reciprocatin         1\n",
            "Name: count, dtype: int64\n"
          ]
        }
      ],
      "source": [
        "purpose_counts = Aviation_df['Engine.Type'].value_counts()\n",
        "print(purpose_counts)"
      ]
    },
    {
      "cell_type": "markdown",
      "metadata": {
        "id": "_Cy3-eAj3Sfn"
      },
      "source": [
        "Saving in my project folder the cleaned data to use in tablue"
      ]
    },
    {
      "cell_type": "markdown",
      "metadata": {
        "id": "nelQv55gkrkJ"
      },
      "source": [
        "Want to do the viasualization with the cleaned data"
      ]
    },
    {
      "cell_type": "markdown",
      "metadata": {
        "id": "t6AfvKrM3iw6"
      },
      "source": [
        "Correcting the data type for Make Column"
      ]
    },
    {
      "cell_type": "markdown",
      "metadata": {
        "id": "j6TqIWla47JL"
      },
      "source": [
        " Replace None with appropriate text\n",
        "\"\"\"\n",
        "The two cases of inconsistent Make  naming are:\n",
        "\n",
        "\"Cessna\" and \"CESSNA\" – These should be combined as they refer to the same Make.\n",
        " \"piper\" and \" PIPER\" – The second entry has a leading space and should be cleaned to match the first.\n",
        "\n",
        "\"\"\""
      ]
    },
    {
      "cell_type": "code",
      "execution_count": 21,
      "metadata": {
        "id": "ajvYe09f5koD"
      },
      "outputs": [],
      "source": [
        "# Your code here\n",
        "# Strip leading/trailing spaces\n",
        "Aviation_df[\"Make\"] = Aviation_df[\"Make\"].str.strip()\n",
        "# Replace 'Marvel' with 'Marvel Comics'\n",
        "Aviation_df[\"Make\"] = Aviation_df[\"Make\"].replace(\"Cessna\", \"CESSNA\")\n",
        "# Replace any remaining 'DC Comics' variants with consistent name\n",
        "Aviation_df[\"Make\"] = Aviation_df[\"Make\"].replace(\"Piper\", \"PIPER\")\n",
        "Aviation_df[\"Make\"] = Aviation_df[\"Make\"].replace(\"Bell\", \"BELL\")\n",
        "Aviation_df[\"Make\"] = Aviation_df[\"Make\"].replace(\"Beech\", \"BEECH\")\n",
        "Aviation_df[\"Make\"] = Aviation_df[\"Make\"].replace(\"Boeing\", \"BOEING\")"
      ]
    },
    {
      "cell_type": "markdown",
      "metadata": {
        "id": "TgwBM2Dm6qbF"
      },
      "source": [
        "Checking wether the changes were applied"
      ]
    },
    {
      "cell_type": "code",
      "execution_count": 22,
      "metadata": {
        "colab": {
          "base_uri": "https://localhost:8080/",
          "height": 742
        },
        "id": "gzqsmoq05XRL",
        "outputId": "7db8e9ea-84ba-45c0-c783-91ca91a4ea2e"
      },
      "outputs": [
        {
          "output_type": "execute_result",
          "data": {
            "text/plain": [
              "Make\n",
              "CESSNA               21395\n",
              "PIPER                11525\n",
              "BEECH                 4139\n",
              "BELL                  2059\n",
              "BOEING                1516\n",
              "Grumman               1066\n",
              "Mooney                1036\n",
              "Bellanca               874\n",
              "Robinson               834\n",
              "Hughes                 777\n",
              "Schweizer              604\n",
              "Air Tractor            528\n",
              "Mcdonnell Douglas      522\n",
              "Aeronca                469\n",
              "Maule                  424\n",
              "Champion               389\n",
              "De Havilland           358\n",
              "Aero Commander         352\n",
              "Aerospatiale           333\n",
              "Stinson                329\n",
              "Name: count, dtype: int64"
            ],
            "text/html": [
              "<div>\n",
              "<style scoped>\n",
              "    .dataframe tbody tr th:only-of-type {\n",
              "        vertical-align: middle;\n",
              "    }\n",
              "\n",
              "    .dataframe tbody tr th {\n",
              "        vertical-align: top;\n",
              "    }\n",
              "\n",
              "    .dataframe thead th {\n",
              "        text-align: right;\n",
              "    }\n",
              "</style>\n",
              "<table border=\"1\" class=\"dataframe\">\n",
              "  <thead>\n",
              "    <tr style=\"text-align: right;\">\n",
              "      <th></th>\n",
              "      <th>count</th>\n",
              "    </tr>\n",
              "    <tr>\n",
              "      <th>Make</th>\n",
              "      <th></th>\n",
              "    </tr>\n",
              "  </thead>\n",
              "  <tbody>\n",
              "    <tr>\n",
              "      <th>CESSNA</th>\n",
              "      <td>21395</td>\n",
              "    </tr>\n",
              "    <tr>\n",
              "      <th>PIPER</th>\n",
              "      <td>11525</td>\n",
              "    </tr>\n",
              "    <tr>\n",
              "      <th>BEECH</th>\n",
              "      <td>4139</td>\n",
              "    </tr>\n",
              "    <tr>\n",
              "      <th>BELL</th>\n",
              "      <td>2059</td>\n",
              "    </tr>\n",
              "    <tr>\n",
              "      <th>BOEING</th>\n",
              "      <td>1516</td>\n",
              "    </tr>\n",
              "    <tr>\n",
              "      <th>Grumman</th>\n",
              "      <td>1066</td>\n",
              "    </tr>\n",
              "    <tr>\n",
              "      <th>Mooney</th>\n",
              "      <td>1036</td>\n",
              "    </tr>\n",
              "    <tr>\n",
              "      <th>Bellanca</th>\n",
              "      <td>874</td>\n",
              "    </tr>\n",
              "    <tr>\n",
              "      <th>Robinson</th>\n",
              "      <td>834</td>\n",
              "    </tr>\n",
              "    <tr>\n",
              "      <th>Hughes</th>\n",
              "      <td>777</td>\n",
              "    </tr>\n",
              "    <tr>\n",
              "      <th>Schweizer</th>\n",
              "      <td>604</td>\n",
              "    </tr>\n",
              "    <tr>\n",
              "      <th>Air Tractor</th>\n",
              "      <td>528</td>\n",
              "    </tr>\n",
              "    <tr>\n",
              "      <th>Mcdonnell Douglas</th>\n",
              "      <td>522</td>\n",
              "    </tr>\n",
              "    <tr>\n",
              "      <th>Aeronca</th>\n",
              "      <td>469</td>\n",
              "    </tr>\n",
              "    <tr>\n",
              "      <th>Maule</th>\n",
              "      <td>424</td>\n",
              "    </tr>\n",
              "    <tr>\n",
              "      <th>Champion</th>\n",
              "      <td>389</td>\n",
              "    </tr>\n",
              "    <tr>\n",
              "      <th>De Havilland</th>\n",
              "      <td>358</td>\n",
              "    </tr>\n",
              "    <tr>\n",
              "      <th>Aero Commander</th>\n",
              "      <td>352</td>\n",
              "    </tr>\n",
              "    <tr>\n",
              "      <th>Aerospatiale</th>\n",
              "      <td>333</td>\n",
              "    </tr>\n",
              "    <tr>\n",
              "      <th>Stinson</th>\n",
              "      <td>329</td>\n",
              "    </tr>\n",
              "  </tbody>\n",
              "</table>\n",
              "</div><br><label><b>dtype:</b> int64</label>"
            ]
          },
          "metadata": {},
          "execution_count": 22
        }
      ],
      "source": [
        "Aviation_df[\"Make\"].value_counts().head(20)\n"
      ]
    },
    {
      "cell_type": "markdown",
      "metadata": {
        "id": "RPJEf_HC7KT7"
      },
      "source": [
        "Saving the changes"
      ]
    },
    {
      "cell_type": "code",
      "execution_count": 23,
      "metadata": {
        "id": "Dd_MfmU17NLb"
      },
      "outputs": [],
      "source": [
        "Aviation_df.to_csv(\"Sorted_Aviation_Data.csv\", index=False)"
      ]
    },
    {
      "cell_type": "markdown",
      "metadata": {
        "id": "MYlSGpw7hC1K"
      },
      "source": [
        "Creating a gragh of model&make against the Investigation.Type .Had filtered the top\n",
        "20 records and conditioned with>=10 and >=5 for both model and make"
      ]
    },
    {
      "cell_type": "code",
      "execution_count": 24,
      "metadata": {
        "colab": {
          "base_uri": "https://localhost:8080/",
          "height": 848
        },
        "id": "muCChYMT21vl",
        "outputId": "e6112c54-af89-42bf-e8e7-9d522392a500"
      },
      "outputs": [
        {
          "output_type": "display_data",
          "data": {
            "text/plain": [
              "<Figure size 1200x1000 with 1 Axes>"
            ],
            "image/png": "[encoded data removed]"
          },
          "metadata": {}
        }
      ],
      "source": [
        "\n",
        "\n",
        "# Load the dataset\n",
        "df = pd.read_csv(\"/content/Sorted_Aviation_Data.csv\")\n",
        "\n",
        "# Filter for accidents only\n",
        "accidents = df[df['Investigation.Type'] == 'Accident']\n",
        "\n",
        "# Get top 20 models by accident count\n",
        "top_models = accidents['Model'].value_counts().head(20)\n",
        "\n",
        "# Get the make for each of these top models\n",
        "model_make = accidents.groupby('Model')['Make'].first()\n",
        "\n",
        "# Create a combined dataframe\n",
        "frequency = pd.DataFrame({\n",
        "    'Count': top_models,\n",
        "    'Make': model_make[top_models.index]\n",
        "}).reset_index()\n",
        "\n",
        "frequency.columns = ['Model', 'Count', 'Make']\n",
        "\n",
        "# Combine Make and Model\n",
        "frequency['Make_Model'] = frequency['Make'] + ' ' + frequency['Model']\n",
        "\n",
        "# Sort by accident count (least to most)\n",
        "frequency = frequency.sort_values('Count', ascending=True)\n",
        "\n",
        "# Plot\n",
        "plt.figure(figsize=(12, 10))\n",
        "bars = plt.barh(\n",
        "    y=frequency['Make_Model'],\n",
        "    width=frequency['Count'],\n",
        "    color='#1f77b4'\n",
        ")\n",
        "\n",
        "# Add labels to bars\n",
        "for bar in bars:\n",
        "    width = bar.get_width()\n",
        "    plt.text(width + 5,\n",
        "             bar.get_y() + bar.get_height() / 2,\n",
        "             f'{int(width)}',\n",
        "             va='center',\n",
        "             fontsize=10)\n",
        "\n",
        "# Customize plot appearance\n",
        "plt.xlabel('Number of Accidents', fontsize=12)\n",
        "plt.ylabel('Aircraft Make & Model', fontsize=12)\n",
        "plt.title('Top 20 Aircraft Models by Accident Frequency (Sorted Least to Most)',\n",
        "          fontsize=14, pad=20)\n",
        "plt.grid(axis='x', linestyle='--', alpha=0.3)\n",
        "\n",
        "# Remove top and right spines\n",
        "for spine in ['top', 'right']:\n",
        "    plt.gca().spines[spine].set_visible(False)\n",
        "\n",
        "# Final layout and show plot\n",
        "plt.tight_layout()\n",
        "plt.show()\n"
      ]
    },
    {
      "cell_type": "code",
      "execution_count": null,
      "metadata": {
        "id": "lhly3KA09rjT"
      },
      "outputs": [],
      "source": [
        "Resposes explaining the gragh\n",
        "\"\"\"\n",
        "For the Top 20  Model\n",
        "Top Risky Models:\n",
        "Cessna 152: 94 incidents\n",
        "Cessna 172: 178 incidents\n",
        "Piper PA-28-140: 33 incidents\n",
        "\n",
        "Which Concluded:\n",
        "These popular training planes have high exposure  Not ideal for new operators.\n",
        "Why?\n",
        "These models dominate incident reports; likely due to training use and high fleet numbers!\n",
        "\"\"\""
      ]
    },
    {
      "cell_type": "markdown",
      "metadata": {
        "id": "THR6bt4PhC1L"
      },
      "source": [
        "Damage Severity graph the Finding 2"
      ]
    },
    {
      "cell_type": "code",
      "execution_count": 25,
      "metadata": {
        "colab": {
          "base_uri": "https://localhost:8080/",
          "height": 505
        },
        "id": "NeIguqpdM-Cw",
        "outputId": "1157dce6-ecb2-456f-b3f7-fc0e27727527"
      },
      "outputs": [
        {
          "output_type": "display_data",
          "data": {
            "text/plain": [
              "<Figure size 2400x1400 with 0 Axes>"
            ]
          },
          "metadata": {}
        },
        {
          "output_type": "display_data",
          "data": {
            "text/plain": [
              "<Figure size 640x480 with 1 Axes>"
            ],
            "image/png": "[encoded data removed]"
          },
          "metadata": {}
        }
      ],
      "source": [
        "import pandas as pd\n",
        "import matplotlib.pyplot as plt\n",
        "\n",
        "# Load and filter data\n",
        "df = pd.read_csv(\"/content/Sorted_Aviation_Data.csv\")\n",
        "accidents = df[df['Investigation.Type'] == 'Accident']\n",
        "top_models = accidents['Model'].value_counts().head(20).index\n",
        "filtered = accidents[accidents['Model'].isin(top_models)]\n",
        "\n",
        "# Replace your current Risk Level assignment with:\n",
        "filtered = filtered.copy()  # Explicitly create a copy first\n",
        "filtered['Risk Level'] = ['High Risk' if (sev == 'Fatal') or (dam == 'Destroyed')\n",
        "                         else 'Standard Risk'\n",
        "                         for sev, dam in zip(filtered['Injury.Severity'], filtered['Aircraft.damage'])]\n",
        "# Prepare data\n",
        "risk_counts = filtered.groupby(['Model', 'Risk Level']).size().unstack().fillna(0)\n",
        "risk_counts = risk_counts.sort_values('High Risk', ascending=False)\n",
        "\n",
        "# Create plot\n",
        "#plt.figure(figsize=(12, 7))\n",
        "plt.figure(figsize=(24, 14))  # Larger dimensions\n",
        "plt.tight_layout(pad=3)  # Add extra padding\n",
        "risk_counts[['High Risk', 'Standard Risk']].plot(\n",
        "    kind='bar',\n",
        "    stacked=True,\n",
        "    color=['red', 'blue'],  # Simple, clear colors\n",
        "    width=0.8\n",
        ")\n",
        "\n",
        "# Basic formatting\n",
        "plt.title('Top 20 Aircraft Models by Risk Level', size=14)\n",
        "plt.xlabel('Model', size=12)\n",
        "plt.ylabel('Count of Injury.Severity', size=12)\n",
        "plt.xticks(rotation=45, ha='right')\n",
        "plt.legend(title='Risk Level')\n",
        "plt.grid(axis='y', alpha=0.2)\n",
        "\n",
        "# Add total counts\n",
        "for i, total in enumerate(risk_counts.sum(axis=1)):\n",
        "    plt.text(i, total + 5, str(int(total)), ha='center', size=10)\n",
        "\n",
        "plt.tight_layout()\n",
        "plt.show()"
      ]
    },
    {
      "cell_type": "markdown",
      "metadata": {
        "id": "8mVnRWhq2vyX"
      },
      "source": [
        "Response for the Damage Severity\n",
        "\"\"\"\n",
        "Shows some models frequently result in total losses(35% for Cessana 152)\n",
        "Ground Cessna 152/172 and Piper PA-28s from initial fleet plans.\n",
        "Lease Cessna 206B for early operations to minimize risk.\n",
        "Audit Boeing 737 data for commercial viability.\n",
        "\"\"\"\n",
        "\"\"\"\n",
        "Cessna 152: 35% of accidents result in total loss.\n",
        "Piper PA-28-140: 99.7% severe damage rate.\n",
        "Cessna 206B: 92% minor damage—ideal for cost control\n",
        "\"\"\"\n"
      ]
    },
    {
      "cell_type": "markdown",
      "metadata": {
        "id": "rmlzdrQDhC1N"
      },
      "source": [
        "Finding 3-Safety Score gragh  "
      ]
    },
    {
      "cell_type": "code",
      "execution_count": 26,
      "metadata": {
        "colab": {
          "base_uri": "https://localhost:8080/",
          "height": 762
        },
        "id": "zNIxpgj3f3_i",
        "outputId": "c2ccb1bc-8c3b-4d40-e122-51a2d19c9129"
      },
      "outputs": [
        {
          "output_type": "display_data",
          "data": {
            "text/plain": [
              "<Figure size 1200x800 with 1 Axes>"
            ],
            "image/png": "[encoded data removed]"
          },
          "metadata": {}
        },
        {
          "output_type": "stream",
          "name": "stdout",
          "text": [
            "Safety Data for Top 20 Models:\n"
          ]
        },
        {
          "output_type": "display_data",
          "data": {
            "text/plain": [
              "Empty DataFrame\n",
              "Columns: [Total_Incidents, Fatal_Incidents, High_Risk, Standard_Risk, Safety_Score]\n",
              "Index: []"
            ],
            "text/html": [
              "\n",
              "  <div id=\"df-1284fa02-9060-4f06-8a48-19361807a1c2\" class=\"colab-df-container\">\n",
              "    <div>\n",
              "<style scoped>\n",
              "    .dataframe tbody tr th:only-of-type {\n",
              "        vertical-align: middle;\n",
              "    }\n",
              "\n",
              "    .dataframe tbody tr th {\n",
              "        vertical-align: top;\n",
              "    }\n",
              "\n",
              "    .dataframe thead th {\n",
              "        text-align: right;\n",
              "    }\n",
              "</style>\n",
              "<table border=\"1\" class=\"dataframe\">\n",
              "  <thead>\n",
              "    <tr style=\"text-align: right;\">\n",
              "      <th></th>\n",
              "      <th>Total_Incidents</th>\n",
              "      <th>Fatal_Incidents</th>\n",
              "      <th>High_Risk</th>\n",
              "      <th>Standard_Risk</th>\n",
              "      <th>Safety_Score</th>\n",
              "    </tr>\n",
              "    <tr>\n",
              "      <th>Model</th>\n",
              "      <th></th>\n",
              "      <th></th>\n",
              "      <th></th>\n",
              "      <th></th>\n",
              "      <th></th>\n",
              "    </tr>\n",
              "  </thead>\n",
              "  <tbody>\n",
              "  </tbody>\n",
              "</table>\n",
              "</div>\n",
              "    <div class=\"colab-df-buttons\">\n",
              "\n",
              "  <div class=\"colab-df-container\">\n",
              "    <button class=\"colab-df-convert\" onclick=\"convertToInteractive('df-1284fa02-9060-4f06-8a48-19361807a1c2')\"\n",
              "            title=\"Convert this dataframe to an interactive table.\"\n",
              "            style=\"display:none;\">\n",
              "\n",
              "  <svg xmlns=\"http://www.w3.org/2000/svg\" height=\"24px\" viewBox=\"0 -960 960 960\">\n",
              "    <path d=\"M120-120v-720h720v720H120Zm60-500h600v-160H180v160Zm220 220h160v-160H400v160Zm0 220h160v-160H400v160ZM180-400h160v-160H180v160Zm440 0h160v-160H620v160ZM180-180h160v-160H180v160Zm440 0h160v-160H620v160Z\"/>\n",
              "  </svg>\n",
              "    </button>\n",
              "\n",
              "  <style>\n",
              "    .colab-df-container {\n",
              "      display:flex;\n",
              "      gap: 12px;\n",
              "    }\n",
              "\n",
              "    .colab-df-convert {\n",
              "      background-color: #E8F0FE;\n",
              "      border: none;\n",
              "      border-radius: 50%;\n",
              "      cursor: pointer;\n",
              "      display: none;\n",
              "      fill: #1967D2;\n",
              "      height: 32px;\n",
              "      padding: 0 0 0 0;\n",
              "      width: 32px;\n",
              "    }\n",
              "\n",
              "    .colab-df-convert:hover {\n",
              "      background-color: #E2EBFA;\n",
              "      box-shadow: 0px 1px 2px rgba(60, 64, 67, 0.3), 0px 1px 3px 1px rgba(60, 64, 67, 0.15);\n",
              "      fill: #174EA6;\n",
              "    }\n",
              "\n",
              "    .colab-df-buttons div {\n",
              "      margin-bottom: 4px;\n",
              "    }\n",
              "\n",
              "    [theme=dark] .colab-df-convert {\n",
              "      background-color: #3B4455;\n",
              "      fill: #D2E3FC;\n",
              "    }\n",
              "\n",
              "    [theme=dark] .colab-df-convert:hover {\n",
              "      background-color: #434B5C;\n",
              "      box-shadow: 0px 1px 3px 1px rgba(0, 0, 0, 0.15);\n",
              "      filter: drop-shadow(0px 1px 2px rgba(0, 0, 0, 0.3));\n",
              "      fill: #FFFFFF;\n",
              "    }\n",
              "  </style>\n",
              "\n",
              "    <script>\n",
              "      const buttonEl =\n",
              "        document.querySelector('#df-1284fa02-9060-4f06-8a48-19361807a1c2 button.colab-df-convert');\n",
              "      buttonEl.style.display =\n",
              "        google.colab.kernel.accessAllowed ? 'block' : 'none';\n",
              "\n",
              "      async function convertToInteractive(key) {\n",
              "        const element = document.querySelector('#df-1284fa02-9060-4f06-8a48-19361807a1c2');\n",
              "        const dataTable =\n",
              "          await google.colab.kernel.invokeFunction('convertToInteractive',\n",
              "                                                    [key], {});\n",
              "        if (!dataTable) return;\n",
              "\n",
              "        const docLinkHtml = 'Like what you see? Visit the ' +\n",
              "          '<a target=\"_blank\" href=https://colab.research.google.com/notebooks/data_table.ipynb>data table notebook</a>'\n",
              "          + ' to learn more about interactive tables.';\n",
              "        element.innerHTML = '';\n",
              "        dataTable['output_type'] = 'display_data';\n",
              "        await google.colab.output.renderOutput(dataTable, element);\n",
              "        const docLink = document.createElement('div');\n",
              "        docLink.innerHTML = docLinkHtml;\n",
              "        element.appendChild(docLink);\n",
              "      }\n",
              "    </script>\n",
              "  </div>\n",
              "\n",
              "\n",
              "    </div>\n",
              "  </div>\n"
            ],
            "application/vnd.google.colaboratory.intrinsic+json": {
              "type": "dataframe",
              "repr_error": "Out of range float values are not JSON compliant: nan"
            }
          },
          "metadata": {}
        }
      ],
      "source": [
        "import pandas as pd\n",
        "import matplotlib.pyplot as plt\n",
        "\n",
        "# Load data\n",
        "df = pd.read_csv(\"/content/Sorted_Aviation_Data.csv\", parse_dates=['Event.Date'])\n",
        "\n",
        "# Filter for accidents (2013-2022)\n",
        "accidents = df[(df['Investigation.Type'] == 'Accident') &\n",
        "               (df['Event.Date'].dt.year.between(2013, 2022))].copy()\n",
        "\n",
        "# Get top 20 models by incident count\n",
        "top_20_models = accidents['Model'].value_counts().nlargest(20).index\n",
        "accidents_top20 = accidents[accidents['Model'].isin(top_20_models)]\n",
        "\n",
        "# Calculate required metrics\n",
        "safety_data = accidents_top20.groupby('Model').agg(\n",
        "    Total_Incidents=('Investigation.Type', 'count'),\n",
        "    Fatal_Incidents=('Total.Fatal.Injuries', 'sum'),\n",
        "    High_Risk=('Injury.Severity', lambda x: ((x == 'Fatal') |\n",
        "              (accidents_top20.loc[x.index, 'Aircraft.damage'] == 'Destroyed')).sum()),\n",
        "    Standard_Risk=('Injury.Severity', lambda x: ((x != 'Fatal') &\n",
        "                (accidents_top20.loc[x.index, 'Aircraft.damage'] != 'Destroyed')).sum())\n",
        ")\n",
        "\n",
        "# Calculate Safety Score (your exact formula)\n",
        "max_total = safety_data['Total_Incidents'].max()\n",
        "max_fatal = safety_data['Fatal_Incidents'].max()\n",
        "\n",
        "def calculate_safety(row):\n",
        "    if row['Total_Incidents'] == 0:\n",
        "        return 100.0\n",
        "    incident_part = (1 - row['Total_Incidents']/max_total) * 60\n",
        "    fatal_part = (1 - row['Fatal_Incidents']/max_fatal) * 40\n",
        "    return (incident_part + fatal_part) * 100\n",
        "\n",
        "safety_data['Safety_Score'] = safety_data.apply(calculate_safety, axis=1)\n",
        "safety_data = safety_data.sort_values('Safety_Score')\n",
        "\n",
        "# Create horizontal bar chart\n",
        "plt.figure(figsize=(12, 8))\n",
        "bars = plt.barh(\n",
        "    y=safety_data.index,\n",
        "    width=safety_data['Safety_Score'],\n",
        "    color='#4CAF50',  # Green color\n",
        "    height=0.7,\n",
        "    edgecolor='darkgreen'\n",
        ")\n",
        "\n",
        "# Add score labels\n",
        "for bar in bars:\n",
        "    width = bar.get_width()\n",
        "    plt.text(\n",
        "        width - 2 if width > 50 else width + 2,\n",
        "        bar.get_y() + bar.get_height()/2,\n",
        "        f'{width:.1f}',\n",
        "        va='center',\n",
        "        color='white' if width > 50 else 'black',\n",
        "        fontweight='bold'\n",
        "    )\n",
        "\n",
        "# Formatting\n",
        "plt.title('Top 20 Aircraft Models by Safety Score (2013-2022)', pad=15, fontsize=14)\n",
        "plt.xlabel('Safety Score (0-100)', fontsize=12)\n",
        "plt.ylabel('Aircraft Model', fontsize=12)\n",
        "plt.xlim(0, 105)\n",
        "plt.grid(axis='x', linestyle=':', alpha=0.3)\n",
        "\n",
        "# Add reference lines\n",
        "plt.axvline(80, color='green', linestyle='--', alpha=0.5, label='Excellent (80+)')\n",
        "plt.axvline(50, color='orange', linestyle='--', alpha=0.5, label='Caution (<50)')\n",
        "plt.legend(loc='lower right')\n",
        "\n",
        "# Adjust layout\n",
        "plt.tight_layout()\n",
        "plt.show()\n",
        "\n",
        "# Display data\n",
        "print(\"Safety Data for Top 20 Models:\")\n",
        "display(safety_data[['Total_Incidents', 'Fatal_Incidents', 'High_Risk', 'Standard_Risk', 'Safety_Score']]\n",
        "       .sort_values('Safety_Score', ascending=False))\n"
      ]
    },
    {
      "cell_type": "code",
      "execution_count": null,
      "metadata": {
        "id": "i3186S_shC1O"
      },
      "outputs": [],
      "source": [
        "Responses\n",
        "\"\"\"\n",
        "Cessna 152: 9,990.77 score but 1,883 severe accidents (Sheet 2).\n",
        "Boeing 737: 9,999.60 score + 1 incident (trustworthy).\n",
        "\n",
        "\"\"\"\n",
        "\"\"\"\n",
        "Cessna 206B (low damage) and Boeing 737 (low incidents + high score).\n",
        "\n",
        "\"\"\""
      ]
    },
    {
      "cell_type": "markdown",
      "metadata": {
        "id": "-1djKFzo3Qwt"
      },
      "source": [
        "Reccommendation\n",
        "\"\"\"\n",
        "Immediate Buys  Cessna 206 Priority acquisition-lowest damage rates\n",
        "Commercial option  Boeing 737 Lease for passenger routes-validated safety\n",
        "\n",
        "Conditional Use  Cessna 172/152 Only with school paertnerships(risk transfer)\n",
        "\"\"\"\n",
        "\n",
        "Q&A\n",
        "\"\"\"\n",
        "Cessna 206B (low damage) and Boeing 737 (low incidents + high score).\n",
        "\"\"\"\n",
        "\n"
      ]
    },
    {
      "cell_type": "markdown",
      "metadata": {
        "id": "i1BnERQa5L6E"
      },
      "source": [
        "Conclusion\n",
        "\"\"\"\n",
        "While safety scores appear strong across all models, cross-referencing with damage data reveals:\n",
        "Two safe paths forward:\n",
        "Build fleet around Cessna 206B/Boeing 737\n",
        "Negotiate risk-sharing for essential training aircraft\n",
        "\"\"\""
      ]
    }
  ],
  "metadata": {
    "colab": {
      "provenance": []
    },
    "kernelspec": {
      "display_name": "Python 3",
      "language": "python",
      "name": "python3"
    },
    "language_info": {
      "codemirror_mode": {
        "name": "ipython",
        "version": 3
      },
      "file_extension": ".py",
      "mimetype": "text/x-python",
      "name": "python",
      "nbconvert_exporter": "python",
      "pygments_lexer": "ipython3",
      "version": "3.8.5"
    }
  },
  "nbformat": 4,
  "nbformat_minor": 0
}